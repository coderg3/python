{
 "cells": [
  {
   "cell_type": "markdown",
   "id": "0686d1c9",
   "metadata": {},
   "source": [
    "$a+b=c$"
   ]
  },
  {
   "cell_type": "markdown",
   "id": "96eacac6",
   "metadata": {},
   "source": [
    "\n",
    "# this"
   ]
  },
  {
   "cell_type": "code",
   "execution_count": 2,
   "id": "de0ca1e2",
   "metadata": {},
   "outputs": [
    {
     "data": {
      "text/plain": [
       "46"
      ]
     },
     "execution_count": 2,
     "metadata": {},
     "output_type": "execute_result"
    }
   ],
   "source": [
    "12+34"
   ]
  },
  {
   "cell_type": "code",
   "execution_count": 3,
   "id": "0863523f",
   "metadata": {},
   "outputs": [
    {
     "data": {
      "text/plain": [
       "3.5"
      ]
     },
     "execution_count": 3,
     "metadata": {},
     "output_type": "execute_result"
    }
   ],
   "source": [
    "14/4"
   ]
  },
  {
   "cell_type": "code",
   "execution_count": 4,
   "id": "76749cfe",
   "metadata": {},
   "outputs": [
    {
     "data": {
      "text/plain": [
       "3"
      ]
     },
     "execution_count": 4,
     "metadata": {},
     "output_type": "execute_result"
    }
   ],
   "source": [
    "14//4"
   ]
  },
  {
   "cell_type": "code",
   "execution_count": 5,
   "id": "dce1dead",
   "metadata": {},
   "outputs": [],
   "source": [
    "s='totalstates in usa'"
   ]
  },
  {
   "cell_type": "code",
   "execution_count": 8,
   "id": "41d8f36d",
   "metadata": {},
   "outputs": [
    {
     "data": {
      "text/plain": [
       "'25'"
      ]
     },
     "execution_count": 8,
     "metadata": {},
     "output_type": "execute_result"
    }
   ],
   "source": [
    "num=25"
   ]
  },
  {
   "cell_type": "code",
   "execution_count": 15,
   "id": "75329f8b",
   "metadata": {},
   "outputs": [
    {
     "data": {
      "text/plain": [
       "'totalstates in usa25'"
      ]
     },
     "execution_count": 15,
     "metadata": {},
     "output_type": "execute_result"
    }
   ],
   "source": [
    "s+str(num)"
   ]
  },
  {
   "cell_type": "code",
   "execution_count": 13,
   "id": "21f10b4f",
   "metadata": {},
   "outputs": [
    {
     "data": {
      "text/plain": [
       "'25'"
      ]
     },
     "execution_count": 13,
     "metadata": {},
     "output_type": "execute_result"
    }
   ],
   "source": [
    "str(num)"
   ]
  },
  {
   "cell_type": "code",
   "execution_count": 16,
   "id": "53ddabd2",
   "metadata": {},
   "outputs": [],
   "source": [
    "x=5"
   ]
  },
  {
   "cell_type": "code",
   "execution_count": 18,
   "id": "27d3f3eb",
   "metadata": {},
   "outputs": [
    {
     "name": "stdout",
     "output_type": "stream",
     "text": [
      "True\n"
     ]
    }
   ],
   "source": [
    "print(x>3 and x<10)"
   ]
  },
  {
   "cell_type": "code",
   "execution_count": 19,
   "id": "a68c06a5",
   "metadata": {},
   "outputs": [
    {
     "name": "stdout",
     "output_type": "stream",
     "text": [
      "Variable   Type    Data/Info\n",
      "----------------------------\n",
      "num        int     25\n",
      "s          str     totalstates in usa\n",
      "x          int     5\n"
     ]
    }
   ],
   "source": [
    "%whos"
   ]
  },
  {
   "cell_type": "code",
   "execution_count": 67,
   "id": "1c084620",
   "metadata": {},
   "outputs": [
    {
     "data": {
      "text/plain": [
       "int"
      ]
     },
     "execution_count": 67,
     "metadata": {},
     "output_type": "execute_result"
    }
   ],
   "source": [
    " type(num)"
   ]
  },
  {
   "cell_type": "code",
   "execution_count": 68,
   "id": "d303fb75",
   "metadata": {},
   "outputs": [],
   "source": [
    "abcd=67.8"
   ]
  },
  {
   "cell_type": "code",
   "execution_count": 69,
   "id": "454b3896",
   "metadata": {},
   "outputs": [],
   "source": [
    "a,b,c,d,e,f=1,5,8,0,'r',\"ram\""
   ]
  },
  {
   "cell_type": "code",
   "execution_count": 70,
   "id": "c483fbf6",
   "metadata": {},
   "outputs": [
    {
     "name": "stdout",
     "output_type": "stream",
     "text": [
      "Variable     Type       Data/Info\n",
      "---------------------------------\n",
      "a            int        1\n",
      "abcd         float      67.8\n",
      "b            int        5\n",
      "c            int        8\n",
      "d            int        0\n",
      "e            str        r\n",
      "f            str        ram\n",
      "num          int        25\n",
      "p            complex    (1+1j)\n",
      "s            str        totalstates in usa\n",
      "sumOfaAndb   int        6\n",
      "x            int        5\n"
     ]
    }
   ],
   "source": [
    "%whos"
   ]
  },
  {
   "cell_type": "code",
   "execution_count": 71,
   "id": "e284d91f",
   "metadata": {},
   "outputs": [],
   "source": [
    "del e"
   ]
  },
  {
   "cell_type": "code",
   "execution_count": 72,
   "id": "6ea320c9",
   "metadata": {},
   "outputs": [
    {
     "name": "stdout",
     "output_type": "stream",
     "text": [
      "Variable     Type       Data/Info\n",
      "---------------------------------\n",
      "a            int        1\n",
      "abcd         float      67.8\n",
      "b            int        5\n",
      "c            int        8\n",
      "d            int        0\n",
      "f            str        ram\n",
      "num          int        25\n",
      "p            complex    (1+1j)\n",
      "s            str        totalstates in usa\n",
      "sumOfaAndb   int        6\n",
      "x            int        5\n"
     ]
    }
   ],
   "source": [
    "%whos"
   ]
  },
  {
   "cell_type": "code",
   "execution_count": 73,
   "id": "88ac20b7",
   "metadata": {},
   "outputs": [
    {
     "data": {
      "text/plain": [
       "str"
      ]
     },
     "execution_count": 73,
     "metadata": {},
     "output_type": "execute_result"
    }
   ],
   "source": [
    "type(s)"
   ]
  },
  {
   "cell_type": "code",
   "execution_count": 74,
   "id": "b0e4c471",
   "metadata": {},
   "outputs": [],
   "source": [
    "p=a+1j"
   ]
  },
  {
   "cell_type": "code",
   "execution_count": 58,
   "id": "e1a233d5",
   "metadata": {},
   "outputs": [
    {
     "data": {
      "text/plain": [
       "complex"
      ]
     },
     "execution_count": 58,
     "metadata": {},
     "output_type": "execute_result"
    }
   ],
   "source": [
    "type(p)"
   ]
  },
  {
   "cell_type": "markdown",
   "id": "8c5e9d94",
   "metadata": {},
   "source": [
    "Operators"
   ]
  },
  {
   "cell_type": "code",
   "execution_count": 59,
   "id": "51c69c6c",
   "metadata": {},
   "outputs": [],
   "source": [
    "sumOfaAndb=a+b"
   ]
  },
  {
   "cell_type": "code",
   "execution_count": 60,
   "id": "74a59baf",
   "metadata": {},
   "outputs": [
    {
     "name": "stdout",
     "output_type": "stream",
     "text": [
      "6\n"
     ]
    }
   ],
   "source": [
    "print(sumOfaAndb)"
   ]
  },
  {
   "cell_type": "code",
   "execution_count": 61,
   "id": "b47d8281",
   "metadata": {},
   "outputs": [
    {
     "data": {
      "text/plain": [
       "int"
      ]
     },
     "execution_count": 61,
     "metadata": {},
     "output_type": "execute_result"
    }
   ],
   "source": [
    "type(sumOfaAndb)"
   ]
  },
  {
   "cell_type": "code",
   "execution_count": 75,
   "id": "6f632f10",
   "metadata": {},
   "outputs": [
    {
     "data": {
      "text/plain": [
       "float"
      ]
     },
     "execution_count": 75,
     "metadata": {},
     "output_type": "execute_result"
    }
   ],
   "source": [
    "type(a+abcd)"
   ]
  },
  {
   "cell_type": "code",
   "execution_count": 76,
   "id": "bc8b6221",
   "metadata": {},
   "outputs": [],
   "source": [
    "t=((a+abcd)**3)/4"
   ]
  },
  {
   "cell_type": "code",
   "execution_count": 77,
   "id": "5d3bcf8d",
   "metadata": {},
   "outputs": [
    {
     "name": "stdout",
     "output_type": "stream",
     "text": [
      "81415.16799999999\n"
     ]
    }
   ],
   "source": [
    "print(t)"
   ]
  },
  {
   "cell_type": "code",
   "execution_count": 78,
   "id": "c9283f46",
   "metadata": {},
   "outputs": [
    {
     "name": "stdout",
     "output_type": "stream",
     "text": [
      "81415.168\n"
     ]
    }
   ],
   "source": [
    "print(round(t,3))"
   ]
  },
  {
   "cell_type": "code",
   "execution_count": 82,
   "id": "a00cfea9",
   "metadata": {},
   "outputs": [
    {
     "data": {
      "text/plain": [
       "(3, 3)"
      ]
     },
     "execution_count": 82,
     "metadata": {},
     "output_type": "execute_result"
    }
   ],
   "source": [
    "divmod(24,7) #both quotient and remainder"
   ]
  },
  {
   "cell_type": "code",
   "execution_count": 83,
   "id": "bc5145e8",
   "metadata": {},
   "outputs": [
    {
     "name": "stdout",
     "output_type": "stream",
     "text": [
      "True\n"
     ]
    }
   ],
   "source": [
    "print(isinstance(1,int))"
   ]
  },
  {
   "cell_type": "code",
   "execution_count": 84,
   "id": "84a1a8b2",
   "metadata": {},
   "outputs": [
    {
     "name": "stdout",
     "output_type": "stream",
     "text": [
      "False\n"
     ]
    }
   ],
   "source": [
    "print (isinstance(1.0,int))"
   ]
  },
  {
   "cell_type": "code",
   "execution_count": 86,
   "id": "3a646897",
   "metadata": {},
   "outputs": [
    {
     "name": "stdout",
     "output_type": "stream",
     "text": [
      "True\n"
     ]
    }
   ],
   "source": [
    "print(isinstance(1.0,(int,float)))"
   ]
  },
  {
   "cell_type": "code",
   "execution_count": 87,
   "id": "25356fcd",
   "metadata": {},
   "outputs": [
    {
     "data": {
      "text/plain": [
       "4"
      ]
     },
     "execution_count": 87,
     "metadata": {},
     "output_type": "execute_result"
    }
   ],
   "source": [
    "pow(2,2)"
   ]
  },
  {
   "cell_type": "code",
   "execution_count": 88,
   "id": "450cf05d",
   "metadata": {},
   "outputs": [
    {
     "data": {
      "text/plain": [
       "0"
      ]
     },
     "execution_count": 88,
     "metadata": {},
     "output_type": "execute_result"
    }
   ],
   "source": [
    "pow(2,2,2)"
   ]
  },
  {
   "cell_type": "code",
   "execution_count": 89,
   "id": "d6382155",
   "metadata": {},
   "outputs": [
    {
     "data": {
      "text/plain": [
       "2"
      ]
     },
     "execution_count": 89,
     "metadata": {},
     "output_type": "execute_result"
    }
   ],
   "source": [
    "pow(2,4,7)"
   ]
  },
  {
   "cell_type": "code",
   "execution_count": 90,
   "id": "b935dfc8",
   "metadata": {},
   "outputs": [
    {
     "name": "stdout",
     "output_type": "stream",
     "text": [
      "enteranythingafag\n"
     ]
    },
    {
     "data": {
      "text/plain": [
       "'afag'"
      ]
     },
     "execution_count": 90,
     "metadata": {},
     "output_type": "execute_result"
    }
   ],
   "source": [
    "input(\"enteranything\")"
   ]
  },
  {
   "cell_type": "code",
   "execution_count": 92,
   "id": "4ea361fb",
   "metadata": {},
   "outputs": [
    {
     "data": {
      "text/plain": [
       "'afag'"
      ]
     },
     "execution_count": 92,
     "metadata": {},
     "output_type": "execute_result"
    }
   ],
   "source": [
    "_"
   ]
  },
  {
   "cell_type": "code",
   "execution_count": 93,
   "id": "cd3100f4",
   "metadata": {},
   "outputs": [],
   "source": [
    "pow?"
   ]
  },
  {
   "cell_type": "code",
   "execution_count": 95,
   "id": "4e7c0ab4",
   "metadata": {},
   "outputs": [],
   "source": [
    "pow??"
   ]
  },
  {
   "cell_type": "code",
   "execution_count": 96,
   "id": "74885a2c",
   "metadata": {},
   "outputs": [],
   "source": [
    "round??"
   ]
  },
  {
   "cell_type": "code",
   "execution_count": 98,
   "id": "786b318c",
   "metadata": {},
   "outputs": [
    {
     "name": "stdout",
     "output_type": "stream",
     "text": [
      "Help on built-in function pow in module builtins:\n",
      "\n",
      "pow(base, exp, mod=None)\n",
      "    Equivalent to base**exp with 2 arguments or base**exp % mod with 3 arguments\n",
      "    \n",
      "    Some types, such as ints, are able to use a more efficient algorithm when\n",
      "    invoked using the three argument form.\n",
      "\n"
     ]
    }
   ],
   "source": [
    "help(pow)"
   ]
  },
  {
   "cell_type": "code",
   "execution_count": 9,
   "id": "3adf3c06",
   "metadata": {},
   "outputs": [
    {
     "name": "stdout",
     "output_type": "stream",
     "text": [
      "2\n",
      "2\n",
      "1\n",
      "3\n",
      "1\n",
      "3\n",
      "2\n",
      "3\n",
      "2\n",
      "3\n"
     ]
    }
   ],
   "source": [
    "numbers=(1,1,6,7,9,0,4,8,2,7,2,4,6,8,9,0,3,5,4,6,8,0,)\n",
    "print(numbers.count(1))#tells how manyones are there in the numbers variable\n",
    "print(numbers.count(2))\n",
    "print(numbers.count(3))\n",
    "print(numbers.count(4))\n",
    "print(numbers.count(5))\n",
    "print(numbers.count(6))\n",
    "print(numbers.count(7))\n",
    "print(numbers.count(8))\n",
    "print(numbers.count(9))\n",
    "print(numbers.count(0))"
   ]
  },
  {
   "cell_type": "code",
   "execution_count": 11,
   "id": "383702f1",
   "metadata": {},
   "outputs": [
    {
     "data": {
      "text/plain": [
       "5"
      ]
     },
     "execution_count": 11,
     "metadata": {},
     "output_type": "execute_result"
    }
   ],
   "source": [
    "numbers.index(0)# searches the tuple for a specified value and returns the position of where it was found"
   ]
  },
  {
   "cell_type": "code",
   "execution_count": null,
   "id": "b76c71f0",
   "metadata": {},
   "outputs": [],
   "source": []
  }
 ],
 "metadata": {
  "kernelspec": {
   "display_name": "Python 3 (ipykernel)",
   "language": "python",
   "name": "python3"
  },
  "language_info": {
   "codemirror_mode": {
    "name": "ipython",
    "version": 3
   },
   "file_extension": ".py",
   "mimetype": "text/x-python",
   "name": "python",
   "nbconvert_exporter": "python",
   "pygments_lexer": "ipython3",
   "version": "3.9.12"
  }
 },
 "nbformat": 4,
 "nbformat_minor": 5
}
