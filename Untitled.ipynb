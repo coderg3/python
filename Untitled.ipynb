{
 "cells": [
  {
   "cell_type": "markdown",
   "id": "73b73db9",
   "metadata": {},
   "source": [
    "Using following list of cities per country,\n",
    "india = [\"mumbai\", \"banglore\", \"chennai\", \"delhi\"]\n",
    "pakistan = [\"lahore\",\"karachi\",\"islamabad\"]\n",
    "bangladesh = [\"dhaka\", \"khulna\", \"rangpur\"]\n",
    "\n",
    "Write a program that asks user to enter a city name and it should tell which country the city belongs to\n",
    "\n",
    "Write a program that asks user to enter two cities and it tells you if they both are in same country or not. For example if I enter mumbai and chennai, it will print \"Both cities are in India\" but if I enter mumbai and dhaka it should print \"They don't belong to same country\"\n"
   ]
  },
  {
   "cell_type": "code",
   "execution_count": 9,
   "id": "3322cfad",
   "metadata": {},
   "outputs": [
    {
     "name": "stdout",
     "output_type": "stream",
     "text": [
      "enter a city name:bvfhgbkjvn\n",
      "I won't be able to tell you which country bvfhgbkjvn is in! Sorry!\n"
     ]
    }
   ],
   "source": [
    "india = [\"mumbai\", \"banglore\", \"chennai\", \"delhi\"]\n",
    "pakistan = [\"lahore\",\"karachi\",\"islamabad\"] \n",
    "bangladesh = [\"dhaka\", \"khulna\", \"rangpur\"]\n",
    "cityName=input(\"enter a city name:\")\n",
    "if cityName in india:\n",
    "    print(f\"{cityName} is in India\")\n",
    "elif cityName in pakistan:\n",
    "    print(f\"{cityName} is in Pakistan\")\n",
    "elif cityName in bangladesh:\n",
    "    print(f\"{cityName} is in Bangladesh\")\n",
    "else:\n",
    "    print(f\"I won't be able to tell you which country {cityName} is in! Sorry!\")"
   ]
  },
  {
   "cell_type": "code",
   "execution_count": 10,
   "id": "edfbaa13",
   "metadata": {},
   "outputs": [
    {
     "name": "stdout",
     "output_type": "stream",
     "text": [
      "enter a city name1:rang[ur\n",
      "enter a city name2:dk\n",
      "They don't belong to same country\n"
     ]
    }
   ],
   "source": [
    "cityName1=input(\"enter a city name1:\")\n",
    "cityName2=input(\"enter a city name2:\")\n",
    "if cityName1 in india and cityName2 in india:\n",
    "    print(\"Both cities are in india\")\n",
    "elif cityName1 in pakistan and cityName2 in pakistan:\n",
    "    print(\"Both cities are in pakistan\")\n",
    "elif cityName1 in bangladesh and cityName2 in bangladesh:\n",
    "    print(\"Both cities are in bangladesh\")\n",
    "else:\n",
    "    print(\"They don't belong to same country\")"
   ]
  },
  {
   "cell_type": "markdown",
   "id": "aa0623b3",
   "metadata": {},
   "source": [
    "\n",
    "Write a python program that can tell you if your sugar is normal or not. Normal fasting level sugar range is 80 to 100.\n",
    " Ask user to enter his fasting sugar level\n",
    "\n",
    "If it is below 80 to 100 range then print that sugar is low\n",
    "\n",
    "If it is above 100 then print that it is high otherwise print that it is normal"
   ]
  },
  {
   "cell_type": "code",
   "execution_count": 13,
   "id": "e945f943",
   "metadata": {},
   "outputs": [
    {
     "name": "stdout",
     "output_type": "stream",
     "text": [
      "Please enter your fasting sugar level:45\n",
      "Your sugar is low, go eat some jalebi :)\n"
     ]
    }
   ],
   "source": [
    "sugar=float(input(\"Please enter your fasting sugar level:\"))\n",
    "if sugar<80:\n",
    "    print(\"Your sugar is low, go eat some jalebi :)\")\n",
    "elif sugar>100:\n",
    "    print(\"Your sugar is high, stop eating all mithais..!\")\n",
    "else:\n",
    "    print(\"Your sugar is normal, relax and enjoy your life!\")"
   ]
  },
  {
   "cell_type": "code",
   "execution_count": null,
   "id": "5dd070bf",
   "metadata": {},
   "outputs": [],
   "source": []
  },
  {
   "cell_type": "code",
   "execution_count": null,
   "id": "53e2545e",
   "metadata": {},
   "outputs": [],
   "source": []
  },
  {
   "cell_type": "code",
   "execution_count": null,
   "id": "4f8f9b5d",
   "metadata": {},
   "outputs": [],
   "source": []
  },
  {
   "cell_type": "code",
   "execution_count": null,
   "id": "530a107b",
   "metadata": {},
   "outputs": [],
   "source": []
  },
  {
   "cell_type": "code",
   "execution_count": null,
   "id": "85620de1",
   "metadata": {},
   "outputs": [],
   "source": []
  }
 ],
 "metadata": {
  "kernelspec": {
   "display_name": "Python 3 (ipykernel)",
   "language": "python",
   "name": "python3"
  },
  "language_info": {
   "codemirror_mode": {
    "name": "ipython",
    "version": 3
   },
   "file_extension": ".py",
   "mimetype": "text/x-python",
   "name": "python",
   "nbconvert_exporter": "python",
   "pygments_lexer": "ipython3",
   "version": "3.9.12"
  }
 },
 "nbformat": 4,
 "nbformat_minor": 5
}
