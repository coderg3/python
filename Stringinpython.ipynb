{
 "cells": [
  {
   "cell_type": "markdown",
   "id": "0f344f56",
   "metadata": {},
   "source": [
    "Create 3 variables to store street, city and country, now create address variable to store entire address. Use two ways of creating this variable, one using + operator and the other using f-string. Now Print the address in such a way that the street, city and country prints in a separate line\n",
    "\n",
    "\n",
    "I have a string variable called s='maine 200 banana khaye'. This of course is a wrong statement, the correct statement is 'maine 10 samosa khaye'. Replace incorrect words in original strong with new ones and print the new string. Also try to do this in one line."
   ]
  },
  {
   "cell_type": "code",
   "execution_count": 3,
   "id": "87186af4",
   "metadata": {},
   "outputs": [
    {
     "name": "stdout",
     "output_type": "stream",
     "text": [
      "Address using + operator: \n",
      "Rajaji Nagar\n",
      "Hyederabad\n",
      "India\n",
      "Address using f-string: \n",
      "Rajaji Nagar\n",
      "Hyederabad\n",
      "India\n"
     ]
    }
   ],
   "source": [
    "street=\"Rajaji Nagar\"\n",
    "city=\"Hyederabad\"\n",
    "country=\"India\"\n",
    "address = '\\n' +street + '\\n' + city + '\\n' + country\n",
    "print(\"Address using + operator:\",address)\n",
    "address = f'\\n{street}\\n{city}\\n{country}'\n",
    "print(\"Address using f-string:\",address)"
   ]
  },
  {
   "cell_type": "code",
   "execution_count": null,
   "id": "63cf8b89",
   "metadata": {},
   "outputs": [],
   "source": []
  },
  {
   "cell_type": "markdown",
   "id": "e66e11ad",
   "metadata": {},
   "source": [
    "Create a variable to store the string \"Earth revolves around the sun\"\n",
    "\n",
    "Print \"revolves\" using slice operator\n",
    "\n",
    "Print \"sun\" using negative index\n"
   ]
  },
  {
   "cell_type": "code",
   "execution_count": 14,
   "id": "21ff884b",
   "metadata": {},
   "outputs": [
    {
     "name": "stdout",
     "output_type": "stream",
     "text": [
      "revolves \n"
     ]
    },
    {
     "data": {
      "text/plain": [
       "'sun'"
      ]
     },
     "execution_count": 14,
     "metadata": {},
     "output_type": "execute_result"
    }
   ],
   "source": [
    "fun=\"Earth revolves around the sun\"\n",
    "print(fun[6:15])\n",
    "fun[-3:]"
   ]
  },
  {
   "cell_type": "code",
   "execution_count": null,
   "id": "6c7cd587",
   "metadata": {},
   "outputs": [],
   "source": []
  },
  {
   "cell_type": "markdown",
   "id": "814f3130",
   "metadata": {},
   "source": [
    "\n",
    "Create two variables to store how many fruits and vegetables you eat in a day. Now Print \"I eat x veggies and y fruits daily\" where x and y presents vegetables and fruits that you eat everyday. Use python f string for this."
   ]
  },
  {
   "cell_type": "code",
   "execution_count": 16,
   "id": "735fe1ad",
   "metadata": {},
   "outputs": [
    {
     "name": "stdout",
     "output_type": "stream",
     "text": [
      "I eat 9 veggies and 5 fruits daily\n"
     ]
    }
   ],
   "source": [
    "fruits=5\n",
    "vegetable=9\n",
    "print(f\"I eat {vegetable} veggies and {fruits} fruits daily\" where x and y presents vegetables and fruits that you eat everyday)"
   ]
  },
  {
   "cell_type": "code",
   "execution_count": null,
   "id": "4fd3b830",
   "metadata": {},
   "outputs": [],
   "source": []
  },
  {
   "cell_type": "markdown",
   "id": "fafa1e95",
   "metadata": {},
   "source": [
    "I have a string variable called s='maine 200 banana khaye'. This of course is a wrong statement, the correct statement is 'maine 10 samosa khaye'. Replace incorrect words in original strong with new ones and print the new string. Also try to do this in one line."
   ]
  },
  {
   "cell_type": "code",
   "execution_count": 20,
   "id": "14cf54f8",
   "metadata": {},
   "outputs": [
    {
     "name": "stdout",
     "output_type": "stream",
     "text": [
      "Using two line replace: maine 10 samosa khaye\n"
     ]
    }
   ],
   "source": [
    "s='maine 200 banana khaye'\n",
    "s=s.replace('banana','samosa')\n",
    "s=s.replace('200','10')\n",
    "print(\"Using two line replace:\",s)\n",
    "\n"
   ]
  },
  {
   "cell_type": "code",
   "execution_count": 19,
   "id": "7c67ee6c",
   "metadata": {},
   "outputs": [
    {
     "name": "stdout",
     "output_type": "stream",
     "text": [
      "Using single line: maine 10 samosa khaye\n"
     ]
    }
   ],
   "source": [
    "s='maine 200 banana khaye'\n",
    "s=s.replace('banana','samosa').replace('200','10')\n",
    "print(\"Using single line:\",s)"
   ]
  },
  {
   "cell_type": "code",
   "execution_count": null,
   "id": "55d34316",
   "metadata": {},
   "outputs": [],
   "source": []
  }
 ],
 "metadata": {
  "kernelspec": {
   "display_name": "Python 3 (ipykernel)",
   "language": "python",
   "name": "python3"
  },
  "language_info": {
   "codemirror_mode": {
    "name": "ipython",
    "version": 3
   },
   "file_extension": ".py",
   "mimetype": "text/x-python",
   "name": "python",
   "nbconvert_exporter": "python",
   "pygments_lexer": "ipython3",
   "version": "3.9.12"
  }
 },
 "nbformat": 4,
 "nbformat_minor": 5
}
