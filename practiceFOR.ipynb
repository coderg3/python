{
 "cells": [
  {
   "cell_type": "markdown",
   "id": "ef085d16",
   "metadata": {},
   "source": [
    "# 1"
   ]
  },
  {
   "cell_type": "markdown",
   "id": "a1b5b73e",
   "metadata": {},
   "source": [
    "After flipping a coin 10 times you got this result,\n",
    "result = [\"heads\",\"tails\",\"tails\",\"heads\",\"tails\",\"heads\",\"heads\",\"tails\",\"tails\",\"tails\"]\n",
    "Using for loop figure out how many times you got heads"
   ]
  },
  {
   "cell_type": "code",
   "execution_count": 7,
   "id": "3e9f0d32",
   "metadata": {},
   "outputs": [
    {
     "name": "stdout",
     "output_type": "stream",
     "text": [
      "4\n"
     ]
    }
   ],
   "source": [
    "result = [\"heads\",\"tails\",\"tails\",\"heads\",\"tails\",\"heads\",\"heads\",\"tails\",\"tails\",\"tails\"]\n",
    "for i in result:\n",
    "    p=result.count(\"heads\")\n",
    "print(p)"
   ]
  },
  {
   "cell_type": "code",
   "execution_count": 10,
   "id": "9a8d5956",
   "metadata": {},
   "outputs": [
    {
     "name": "stdout",
     "output_type": "stream",
     "text": [
      "Heads count:  4\n"
     ]
    }
   ],
   "source": [
    "result = [\"heads\",\"tails\",\"tails\",\"heads\",\"tails\",\"heads\",\"heads\",\"tails\",\"tails\",\"tails\"]\n",
    "count = 0\n",
    "for item in result:\n",
    "    if item == \"heads\":\n",
    "        count += 1\n",
    "print(\"Heads count: \",count)"
   ]
  },
  {
   "cell_type": "markdown",
   "id": "f79244b0",
   "metadata": {},
   "source": [
    "# 2"
   ]
  },
  {
   "cell_type": "markdown",
   "id": "e3079b9e",
   "metadata": {},
   "source": [
    "Print square of all numbers between 1 to 10 except even numbers\n"
   ]
  },
  {
   "cell_type": "code",
   "execution_count": 9,
   "id": "1d04d5d6",
   "metadata": {},
   "outputs": [
    {
     "name": "stdout",
     "output_type": "stream",
     "text": [
      "1\n",
      "9\n",
      "25\n",
      "49\n",
      "81\n"
     ]
    }
   ],
   "source": [
    "for i in range(1,11):\n",
    "    if i%2 != 0:\n",
    "        print(i**2)"
   ]
  },
  {
   "cell_type": "code",
   "execution_count": 11,
   "id": "04d2a442",
   "metadata": {},
   "outputs": [
    {
     "name": "stdout",
     "output_type": "stream",
     "text": [
      "1\n",
      "9\n",
      "25\n",
      "49\n",
      "81\n"
     ]
    }
   ],
   "source": [
    "for i in range(1,11):\n",
    "    if i % 2 == 0:\n",
    "        continue\n",
    "    print(i*i)\n"
   ]
  },
  {
   "cell_type": "markdown",
   "id": "6b72bbda",
   "metadata": {},
   "source": [
    "# 3"
   ]
  },
  {
   "cell_type": "markdown",
   "id": "13fa7554",
   "metadata": {},
   "source": [
    "Your monthly expense list (from Jan to May) looks like this,\n",
    "\n",
    "expense_list = [2340, 2500, 2100, 3100, 2980]\n",
    "\n",
    "Write a program that asks you to enter an expense amount and program should tell you in which month that expense occurred. If expense is not found then it should print that as well.\n",
    "\n"
   ]
  },
  {
   "cell_type": "code",
   "execution_count": 32,
   "id": "e38622d9",
   "metadata": {},
   "outputs": [
    {
     "name": "stdout",
     "output_type": "stream",
     "text": [
      "Enter expense amount:9079\n",
      "you didnt spent \n"
     ]
    }
   ],
   "source": [
    "month_list = [\"January\", \"February\", \"March\", \"April\", \"May\"]\n",
    "expense_list = [2340, 2500, 2100, 3100, 2980]\n",
    "expamt=int(input(\"Enter expense amount:\"))\n",
    "month=0\n",
    "for i in range(len(expense_list)):\n",
    "    if expamt == expense_list[i]:\n",
    "        month=i\n",
    "        print(expamt, month_list[i])\n",
    "    else:\n",
    "        print(\"you didnt spent \")\n",
    "    break"
   ]
  },
  {
   "cell_type": "code",
   "execution_count": null,
   "id": "a7e3dd60",
   "metadata": {},
   "outputs": [],
   "source": []
  },
  {
   "cell_type": "code",
   "execution_count": null,
   "id": "9c9af28e",
   "metadata": {},
   "outputs": [],
   "source": []
  },
  {
   "cell_type": "code",
   "execution_count": 13,
   "id": "d86d978e",
   "metadata": {},
   "outputs": [
    {
     "name": "stdout",
     "output_type": "stream",
     "text": [
      "Enter expense amount: 2980\n",
      "You spent 2980 in May\n"
     ]
    }
   ],
   "source": [
    "month_list = [\"January\", \"February\", \"March\", \"April\", \"May\"]\n",
    "expense_list = [2340, 2500, 2100, 3100, 2980]\n",
    "e = input(\"Enter expense amount: \")\n",
    "e = int(e)\n",
    "\n",
    "month = -1\n",
    "for i in range(len(expense_list)):\n",
    "    if e == expense_list[i]:\n",
    "        month = i\n",
    "        break\n",
    "\n",
    "if month != -1:\n",
    "    print(f'You spent {e} in {month_list[month]}')\n",
    "else:\n",
    "    print(f'You didn\\'t spend {e} in any month')\n"
   ]
  },
  {
   "cell_type": "markdown",
   "id": "4f9e2d6f",
   "metadata": {},
   "source": [
    "# 4"
   ]
  },
  {
   "cell_type": "markdown",
   "id": "6184b029",
   "metadata": {},
   "source": [
    "Lets say you are running a 5 km race. Write a program that,\n",
    "\n",
    "Upon completing each 1 km asks you \"are you tired?\"\n",
    "If you reply \"yes\" then it should break and print \"you didn't finish the race\"\n",
    "If you reply \"no\" then it should continue and ask \"are you tired\" on every km\n",
    "If you finish all 5 km then it should print congratulations message\n"
   ]
  },
  {
   "cell_type": "code",
   "execution_count": 8,
   "id": "d27869c2",
   "metadata": {},
   "outputs": [
    {
     "name": "stdout",
     "output_type": "stream",
     "text": [
      "you ran i mile\n",
      "Are you tired?no\n"
     ]
    }
   ],
   "source": [
    "for i in range(1,6):\n",
    "    print(\"you ran i mile\")\n",
    "    tired=input(\"Are you tired?\")\n",
    "    if tired == \"yes\":\n",
    "        print(\"you didn't finish the race\")\n",
    "        break\n",
    "    elif i== 5:\n",
    "        print(\"congratulations\")\n",
    "    break"
   ]
  },
  {
   "cell_type": "code",
   "execution_count": null,
   "id": "3ed20d6c",
   "metadata": {
    "collapsed": true
   },
   "outputs": [],
   "source": [
    "\n",
    "\n"
   ]
  },
  {
   "cell_type": "code",
   "execution_count": 3,
   "id": "c540c65d",
   "metadata": {},
   "outputs": [
    {
     "name": "stdout",
     "output_type": "stream",
     "text": [
      "You ran 1 miles\n",
      "Are you tired? 6\n",
      "You ran 2 miles\n",
      "Are you tired? no\n",
      "You ran 3 miles\n",
      "Are you tired? no\n",
      "You ran 4 miles\n",
      "Are you tired? no\n",
      "You ran 5 miles\n",
      "Are you tired? no\n",
      "Hurray! You are a rock star! You just finished 5 km race!\n"
     ]
    }
   ],
   "source": [
    "for i in range(5):\n",
    "    print(f\"You ran {i+1} miles\") # i starts with zero hence adding 1\n",
    "    tired = input(\"Are you tired? \")\n",
    "    if tired == 'yes':\n",
    "        break\n",
    "\n",
    "if i == 4: # 4 because the index starts from 0\n",
    "    print(\"Hurray! You are a rock star! You just finished 5 km race!\")\n",
    "else:\n",
    "    print(\"You didn't finish 5 km race but hey congrats anyways! You still ran {i+1} miles\")"
   ]
  },
  {
   "cell_type": "markdown",
   "id": "c5044dfe",
   "metadata": {},
   "source": [
    "Write a program that prints following shape\n",
    "\n",
    "*\n",
    "**\n",
    "***\n",
    "****\n",
    "*****"
   ]
  },
  {
   "cell_type": "code",
   "execution_count": null,
   "id": "df008264",
   "metadata": {},
   "outputs": [],
   "source": []
  },
  {
   "cell_type": "code",
   "execution_count": null,
   "id": "bf798755",
   "metadata": {},
   "outputs": [],
   "source": []
  },
  {
   "cell_type": "code",
   "execution_count": 36,
   "id": "2036b3ef",
   "metadata": {},
   "outputs": [
    {
     "name": "stdout",
     "output_type": "stream",
     "text": [
      "*\n",
      "**\n",
      "***\n",
      "****\n",
      "*****\n"
     ]
    }
   ],
   "source": [
    "for i in range(1,6):\n",
    "    s = ''\n",
    "    for j in range(i):\n",
    "        s += '*'\n",
    "    print(s)"
   ]
  },
  {
   "cell_type": "code",
   "execution_count": null,
   "id": "a339fde5",
   "metadata": {},
   "outputs": [],
   "source": []
  }
 ],
 "metadata": {
  "kernelspec": {
   "display_name": "Python 3 (ipykernel)",
   "language": "python",
   "name": "python3"
  },
  "language_info": {
   "codemirror_mode": {
    "name": "ipython",
    "version": 3
   },
   "file_extension": ".py",
   "mimetype": "text/x-python",
   "name": "python",
   "nbconvert_exporter": "python",
   "pygments_lexer": "ipython3",
   "version": "3.9.12"
  }
 },
 "nbformat": 4,
 "nbformat_minor": 5
}
