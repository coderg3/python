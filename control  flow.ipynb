{
 "cells": [
  {
   "cell_type": "code",
   "execution_count": null,
   "id": "646d5f68",
   "metadata": {},
   "outputs": [],
   "source": [
    "a=int(input())\n",
    "b=int(input()) "
   ]
  },
  {
   "cell_type": "code",
   "execution_count": null,
   "id": "5a0b1c4d",
   "metadata": {},
   "outputs": [],
   "source": [
    "if a>b:\n",
    "    print(a)\n",
    "else:\n",
    "    print(b)"
   ]
  },
  {
   "cell_type": "code",
   "execution_count": null,
   "id": "d0b97c57",
   "metadata": {},
   "outputs": [],
   "source": [
    "if a>b:\n",
    "    print(a)\n",
    "print(b)"
   ]
  },
  {
   "cell_type": "code",
   "execution_count": null,
   "id": "e9da5cd7",
   "metadata": {},
   "outputs": [],
   "source": [
    "if a>b:\n",
    "    print(a)\n",
    "elif a<b:\n",
    "        print(b)\n",
    "else:\n",
    "    print(\"a=b\")"
   ]
  },
  {
   "cell_type": "code",
   "execution_count": null,
   "id": "16c8fa7e",
   "metadata": {},
   "outputs": [],
   "source": [
    "a=int(input(\"Enter Marks elglish:\"))\n",
    "if a>=85:\n",
    "    print(\"A grade \")\n",
    "elif a<85 and a>=80:\n",
    "    print(\"B grade\")\n",
    "elif a<80 and a>=75:\n",
    "    print(\"C grade\")\n",
    "elif a<75 and a>70:\n",
    "    print(\"D grade\")\n",
    "else:\n",
    "    print(\"failed\")"
   ]
  },
  {
   "cell_type": "code",
   "execution_count": null,
   "id": "45ef5f51",
   "metadata": {},
   "outputs": [],
   "source": [
    "a=3\n",
    "if a>10:\n",
    "    print(\">10\")\n",
    "elif not(a>10):\n",
    "    print(\"else part\")"
   ]
  },
  {
   "cell_type": "code",
   "execution_count": null,
   "id": "9851d158",
   "metadata": {},
   "outputs": [],
   "source": [
    "a=13\n",
    "if a>10:\n",
    "    print(\">10\")\n",
    "elif not(a>10):\n",
    "    print(\"else part\")"
   ]
  },
  {
   "cell_type": "code",
   "execution_count": null,
   "id": "f5103c73",
   "metadata": {},
   "outputs": [],
   "source": [
    "a=10\n",
    "if a>10:\n",
    "    print(\">10\")\n",
    "elif not(a>10):\n",
    "    print(\"else part\")"
   ]
  },
  {
   "cell_type": "markdown",
   "id": "c8f92276",
   "metadata": {},
   "source": [
    "nested if"
   ]
  },
  {
   "cell_type": "code",
   "execution_count": null,
   "id": "a6a9b6e9",
   "metadata": {},
   "outputs": [],
   "source": [
    "a=int(input())\n",
    "if a>10:\n",
    "    print(\">10\")\n",
    "    print(\"Inside the top if\")\n",
    "    if a>20:\n",
    "        print(\">20\")\n",
    "        print (\"insde the nested if\")\n",
    "    else:\n",
    "        print(\"<=20\")\n",
    "        print(\"Inside the else part of nested if\")\n",
    "print(\"Outside all ifs\")"
   ]
  },
  {
   "cell_type": "code",
   "execution_count": null,
   "id": "339d4c86",
   "metadata": {},
   "outputs": [],
   "source": [
    "a=int(input())\n",
    "if a>10:\n",
    "    print(\">10\")\n",
    "    print(\"Inside the top if\")\n",
    "    if a>20:\n",
    "        print(\">20\")\n",
    "        print (\"insde the nested if of nested if\")\n",
    "        if a>30:\n",
    "            print(\">30\")\n",
    "            print (\"insde the nested if\")\n",
    "        else:\n",
    "            print(\"<=30\")\n",
    "            print (\"insde the else part of nested if of nested if\")\n",
    "\n",
    "    else:\n",
    "        print(\"<=20\")\n",
    "        print(\"Inside the else part of nested if\")\n",
    "print(\"Outside all ifs\")\n"
   ]
  },
  {
   "cell_type": "code",
   "execution_count": null,
   "id": "c0cc078b",
   "metadata": {},
   "outputs": [],
   "source": [
    "'''\n",
    "User will enter a floating point number let say 238.915. your task\n",
    "is to find out the integer portion before the point (in this case 238)\n",
    "and then check if that integer portion is an even number or not?\n",
    "\n",
    "'''\n",
    "x=float(input(\"Enter a real number :\"))   # this programe for positive numbers to find integer part\n",
    "y= round(x)\n",
    "if y>x:\n",
    "    intportion=y-1#29.6\n",
    "else:\n",
    "    intportion=y\n",
    "print(intportion)"
   ]
  },
  {
   "cell_type": "code",
   "execution_count": null,
   "id": "578410e5",
   "metadata": {},
   "outputs": [],
   "source": [
    "x=float(input(\"Enter a real number :\"))   # this programe for positive also negative numbers to find integer part\n",
    "y= round(x)\n",
    "if x>0:  \n",
    "    if y>x:\n",
    "        intportion=y-1#29.6\n",
    "    else:\n",
    "        intportion=y\n",
    "else:\n",
    "    if y<x:\n",
    "        intportion=y+1#29.6\n",
    "    else:\n",
    "        intportion=y\n",
    "print(intportion)"
   ]
  },
  {
   "cell_type": "code",
   "execution_count": null,
   "id": "98e19cf6",
   "metadata": {},
   "outputs": [],
   "source": [
    "x=float(input(\"Enter a real number :\"))   # this programe for positive also negative numbers to find integer part also even/odd.\n",
    "y= round(x)\n",
    "if x>0:  \n",
    "    if y>x:\n",
    "        intportion=y-1#29.6\n",
    "    else:\n",
    "        intportion=y\n",
    "else:\n",
    "    if y<x:\n",
    "        intportion=y+1#29.6\n",
    "    else:\n",
    "        intportion=y\n",
    "print(intportion)\n",
    "\n",
    "if intportion%2 == 0:\n",
    "    print(\"Even\")\n",
    "else:\n",
    "    print(\"odd\")"
   ]
  },
  {
   "cell_type": "code",
   "execution_count": null,
   "id": "1b29c71e",
   "metadata": {},
   "outputs": [],
   "source": [
    "round(-9.3)"
   ]
  },
  {
   "cell_type": "code",
   "execution_count": null,
   "id": "a204c361",
   "metadata": {},
   "outputs": [],
   "source": [
    "t=int(input('Max iterations:'))\n",
    "i=1\n",
    "while (i < t):\n",
    "    print(i)\n",
    "    i += 1\n",
    "print(\"done\")"
   ]
  },
  {
   "cell_type": "code",
   "execution_count": null,
   "id": "9517147c",
   "metadata": {},
   "outputs": [],
   "source": [
    "t=int(input('Max iterations:'))\n",
    "i=18\n",
    "while (i < t):\n",
    "    print(i)\n",
    "    i -= 1\n",
    "print(\"done\")"
   ]
  },
  {
   "cell_type": "code",
   "execution_count": null,
   "id": "742f08e9",
   "metadata": {},
   "outputs": [],
   "source": [
    "t=int(input('Max iterations:'))\n",
    "i=18\n",
    "while (i > t):\n",
    "    print(i)\n",
    "    i -= 1\n",
    "print(\"done\")"
   ]
  },
  {
   "cell_type": "code",
   "execution_count": null,
   "id": "2bb30a81",
   "metadata": {},
   "outputs": [],
   "source": [
    "o=int(input())\n",
    "i=1\n",
    "while (i < o):\n",
    "    print(i**2)\n",
    "    print(\"This is iteration number :\", i)\n",
    "    i+=1 # i=i+1\n",
    "print(\"Loopdone\")"
   ]
  },
  {
   "cell_type": "code",
   "execution_count": null,
   "id": "3c01765d",
   "metadata": {},
   "outputs": [],
   "source": []
  }
 ],
 "metadata": {
  "kernelspec": {
   "display_name": "Python 3 (ipykernel)",
   "language": "python",
   "name": "python3"
  },
  "language_info": {
   "codemirror_mode": {
    "name": "ipython",
    "version": 3
   },
   "file_extension": ".py",
   "mimetype": "text/x-python",
   "name": "python",
   "nbconvert_exporter": "python",
   "pygments_lexer": "ipython3",
   "version": "3.9.12"
  }
 },
 "nbformat": 4,
 "nbformat_minor": 5
}
