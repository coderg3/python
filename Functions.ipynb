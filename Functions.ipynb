{
 "cells": [
  {
   "cell_type": "markdown",
   "id": "10ff608b",
   "metadata": {},
   "source": [
    "# functions"
   ]
  },
  {
   "cell_type": "code",
   "execution_count": 1,
   "id": "b9e7df41",
   "metadata": {},
   "outputs": [],
   "source": [
    "def printSuccess():\n",
    "    '''it\n",
    "    is\n",
    "    just\n",
    "    ddefining\n",
    "    function\n",
    "    '''\n",
    "    print(\"the task was successful\")\n",
    "    print(\"moving to the next task\")\n",
    "    print(\"send me the next task\")\n"
   ]
  },
  {
   "cell_type": "code",
   "execution_count": 2,
   "id": "75ba195c",
   "metadata": {},
   "outputs": [
    {
     "name": "stdout",
     "output_type": "stream",
     "text": [
      "the task was successful\n",
      "moving to the next task\n",
      "send me the next task\n"
     ]
    }
   ],
   "source": [
    "printSuccess()"
   ]
  },
  {
   "cell_type": "code",
   "execution_count": 3,
   "id": "13fd2c06",
   "metadata": {},
   "outputs": [],
   "source": [
    "#document string"
   ]
  },
  {
   "cell_type": "code",
   "execution_count": 4,
   "id": "efdefe80",
   "metadata": {},
   "outputs": [],
   "source": [
    "def printmsg(msg):\n",
    "    ''' the function prints the message supplied bt the user\n",
    "    or prints that msg is not unb the form of string'''\n",
    "    if isinstance(msg,str):\n",
    "        print(msg)\n",
    "    else:\n",
    "        print(\"your input argument is not a string\")\n",
    "        print(\"here is what you have supplied\", type(msg))"
   ]
  },
  {
   "cell_type": "code",
   "execution_count": 5,
   "id": "331ee48e",
   "metadata": {},
   "outputs": [
    {
     "name": "stdout",
     "output_type": "stream",
     "text": [
      "msg\n"
     ]
    }
   ],
   "source": [
    "printmsg(\"msg\")"
   ]
  },
  {
   "cell_type": "code",
   "execution_count": 6,
   "id": "8d9b3dd6",
   "metadata": {},
   "outputs": [
    {
     "name": "stdout",
     "output_type": "stream",
     "text": [
      "Help on function printmsg in module __main__:\n",
      "\n",
      "printmsg(msg)\n",
      "    the function prints the message supplied bt the user\n",
      "    or prints that msg is not unb the form of string\n",
      "\n"
     ]
    }
   ],
   "source": [
    "help(printmsg)"
   ]
  },
  {
   "cell_type": "code",
   "execution_count": 7,
   "id": "cd97b814",
   "metadata": {},
   "outputs": [
    {
     "name": "stdout",
     "output_type": "stream",
     "text": [
      "your input argument is not a string\n",
      "here is what you have supplied <class 'int'>\n"
     ]
    }
   ],
   "source": [
    "printmsg(9)"
   ]
  },
  {
   "cell_type": "code",
   "execution_count": 8,
   "id": "2b3f253c",
   "metadata": {},
   "outputs": [],
   "source": [
    "y=\"hello| there\""
   ]
  },
  {
   "cell_type": "code",
   "execution_count": 9,
   "id": "c2f80ca4",
   "metadata": {},
   "outputs": [
    {
     "name": "stdout",
     "output_type": "stream",
     "text": [
      "hello| there\n"
     ]
    }
   ],
   "source": [
    "printmsg(y)"
   ]
  },
  {
   "cell_type": "code",
   "execution_count": 10,
   "id": "91af7c02",
   "metadata": {},
   "outputs": [],
   "source": [
    "def printMessage(msg1,msg2):\n",
    "    print(msg1,msg2)"
   ]
  },
  {
   "cell_type": "code",
   "execution_count": 11,
   "id": "97f2ed6d",
   "metadata": {},
   "outputs": [
    {
     "name": "stdout",
     "output_type": "stream",
     "text": [
      "100 1000\n"
     ]
    }
   ],
   "source": [
    "printMessage(100,1000)"
   ]
  },
  {
   "cell_type": "code",
   "execution_count": 12,
   "id": "1764de42",
   "metadata": {},
   "outputs": [],
   "source": [
    "def mypow(a,b):\n",
    "    \"\"\"\n",
    "    this function computes power just like builtin pow function\"\"\"\n",
    "    c=a**b\n",
    "    print(c)"
   ]
  },
  {
   "cell_type": "code",
   "execution_count": 13,
   "id": "5cf95e7d",
   "metadata": {},
   "outputs": [],
   "source": [
    "mypow?\n"
   ]
  },
  {
   "cell_type": "code",
   "execution_count": 14,
   "id": "fbbb9a3c",
   "metadata": {},
   "outputs": [
    {
     "name": "stdout",
     "output_type": "stream",
     "text": [
      "100000\n"
     ]
    }
   ],
   "source": [
    "mypow(10,5)"
   ]
  },
  {
   "cell_type": "code",
   "execution_count": 15,
   "id": "72d5f3a1",
   "metadata": {},
   "outputs": [
    {
     "data": {
      "text/plain": [
       "['Pizza', 'veggies']"
      ]
     },
     "execution_count": 15,
     "metadata": {},
     "output_type": "execute_result"
    }
   ],
   "source": [
    "items=[\"bread\",\"pasta\",\"Pizza\",\"veggies\"]\n",
    "items[2:4]"
   ]
  },
  {
   "cell_type": "code",
   "execution_count": 16,
   "id": "6888530d",
   "metadata": {},
   "outputs": [
    {
     "data": {
      "text/plain": [
       "'veggies'"
      ]
     },
     "execution_count": 16,
     "metadata": {},
     "output_type": "execute_result"
    }
   ],
   "source": [
    "items[-1]"
   ]
  },
  {
   "cell_type": "code",
   "execution_count": 17,
   "id": "34d4a560",
   "metadata": {},
   "outputs": [],
   "source": [
    "items.append(\"butter\")"
   ]
  },
  {
   "cell_type": "code",
   "execution_count": 18,
   "id": "e56ccdbc",
   "metadata": {},
   "outputs": [
    {
     "data": {
      "text/plain": [
       "['bread', 'pasta', 'Pizza', 'veggies', 'butter']"
      ]
     },
     "execution_count": 18,
     "metadata": {},
     "output_type": "execute_result"
    }
   ],
   "source": [
    "items"
   ]
  },
  {
   "cell_type": "code",
   "execution_count": 19,
   "id": "07bd9d00",
   "metadata": {},
   "outputs": [],
   "source": [
    "items.insert(1,\"jhevar\")"
   ]
  },
  {
   "cell_type": "code",
   "execution_count": 20,
   "id": "341c0be8",
   "metadata": {},
   "outputs": [
    {
     "data": {
      "text/plain": [
       "['bread', 'jhevar', 'pasta', 'Pizza', 'veggies', 'butter']"
      ]
     },
     "execution_count": 20,
     "metadata": {},
     "output_type": "execute_result"
    }
   ],
   "source": [
    "items"
   ]
  },
  {
   "cell_type": "code",
   "execution_count": 21,
   "id": "3fb6433f",
   "metadata": {},
   "outputs": [
    {
     "name": "stdout",
     "output_type": "stream",
     "text": [
      "['bread', 'jhevar', 'pasta', 'Pizza', 'veggies', 'butter', 'shampoo', 'soap', 'facewash']\n"
     ]
    }
   ],
   "source": [
    "bathroom=['shampoo','soap','facewash']\n",
    "allItems=items+bathroom\n",
    "print(allItems)"
   ]
  },
  {
   "cell_type": "code",
   "execution_count": 22,
   "id": "c5f0205f",
   "metadata": {},
   "outputs": [
    {
     "data": {
      "text/plain": [
       "9"
      ]
     },
     "execution_count": 22,
     "metadata": {},
     "output_type": "execute_result"
    }
   ],
   "source": [
    "len(allItems)"
   ]
  },
  {
   "cell_type": "code",
   "execution_count": 23,
   "id": "c0492645",
   "metadata": {},
   "outputs": [
    {
     "data": {
      "text/plain": [
       "True"
      ]
     },
     "execution_count": 23,
     "metadata": {},
     "output_type": "execute_result"
    }
   ],
   "source": [
    "\"pasta\" in items"
   ]
  },
  {
   "cell_type": "code",
   "execution_count": 24,
   "id": "7a7bf30d",
   "metadata": {},
   "outputs": [
    {
     "data": {
      "text/plain": [
       "False"
      ]
     },
     "execution_count": 24,
     "metadata": {},
     "output_type": "execute_result"
    }
   ],
   "source": [
    "\"pasta\" in bathroom"
   ]
  },
  {
   "cell_type": "code",
   "execution_count": 25,
   "id": "2c6c0bde",
   "metadata": {},
   "outputs": [],
   "source": [
    "def f(a,b,c):\n",
    "    print(\"A is :\",a)\n",
    "    print(\"B is :\",b)\n",
    "    print(\"C is :\",c)"
   ]
  },
  {
   "cell_type": "code",
   "execution_count": 26,
   "id": "57e03e9e",
   "metadata": {},
   "outputs": [
    {
     "name": "stdout",
     "output_type": "stream",
     "text": [
      "A is : 2\n",
      "B is : 3\n",
      "C is : game\n"
     ]
    }
   ],
   "source": [
    "f(2,3,\"game\")"
   ]
  },
  {
   "cell_type": "code",
   "execution_count": 27,
   "id": "dd9053b3",
   "metadata": {},
   "outputs": [
    {
     "name": "stdout",
     "output_type": "stream",
     "text": [
      "A is : 3\n",
      "B is : game\n",
      "C is : 2\n"
     ]
    }
   ],
   "source": [
    "f(3,\"game\",2)"
   ]
  },
  {
   "cell_type": "code",
   "execution_count": 28,
   "id": "090231e5",
   "metadata": {},
   "outputs": [
    {
     "name": "stdout",
     "output_type": "stream",
     "text": [
      "A is : 2\n",
      "B is : 3\n",
      "C is : game\n"
     ]
    }
   ],
   "source": [
    "f(a=2,b=3,c=\"game\")"
   ]
  },
  {
   "cell_type": "code",
   "execution_count": 29,
   "id": "d34dd87f",
   "metadata": {},
   "outputs": [
    {
     "name": "stdout",
     "output_type": "stream",
     "text": [
      "A is : 2\n",
      "B is : 3\n",
      "C is : game\n"
     ]
    }
   ],
   "source": [
    "f(c=\"game\",a=2,b=3)"
   ]
  },
  {
   "cell_type": "code",
   "execution_count": 30,
   "id": "68b872df",
   "metadata": {},
   "outputs": [],
   "source": [
    "def checkArgs(a,b,c):\n",
    "    if isinstance(a,(int,float)) and isinstance(b,(int,float)) and isinstance(c,(int,float)):\n",
    "        print((a+b+c)**2)\n",
    "    else:\n",
    "        print(\"Error:Input arguments are not  of the expected types\")"
   ]
  },
  {
   "cell_type": "code",
   "execution_count": 31,
   "id": "7010042e",
   "metadata": {},
   "outputs": [
    {
     "name": "stdout",
     "output_type": "stream",
     "text": [
      "144\n"
     ]
    }
   ],
   "source": [
    "checkArgs(3,4,5)"
   ]
  },
  {
   "cell_type": "code",
   "execution_count": 32,
   "id": "c89a41d6",
   "metadata": {},
   "outputs": [
    {
     "name": "stdout",
     "output_type": "stream",
     "text": [
      "Error:Input arguments are not  of the expected types\n"
     ]
    }
   ],
   "source": [
    "checkArgs(3,4,\"g\")"
   ]
  },
  {
   "cell_type": "code",
   "execution_count": 34,
   "id": "239952a4",
   "metadata": {},
   "outputs": [],
   "source": [
    "#checkArgs(3,4)"
   ]
  },
  {
   "cell_type": "code",
   "execution_count": 35,
   "id": "54146690",
   "metadata": {},
   "outputs": [],
   "source": [
    "def add(x,y):\n",
    "    c=x+y"
   ]
  },
  {
   "cell_type": "code",
   "execution_count": 36,
   "id": "46344b96",
   "metadata": {},
   "outputs": [],
   "source": [
    "def add(x,y):\n",
    "    return x+y"
   ]
  },
  {
   "cell_type": "code",
   "execution_count": 37,
   "id": "b62caaba",
   "metadata": {},
   "outputs": [],
   "source": [
    "def myadd (a,b):\n",
    "    sumValue=a+b\n",
    "    return sumValue"
   ]
  },
  {
   "cell_type": "code",
   "execution_count": null,
   "id": "f9d13cf9",
   "metadata": {},
   "outputs": [],
   "source": []
  },
  {
   "cell_type": "code",
   "execution_count": 38,
   "id": "c603b7f6",
   "metadata": {},
   "outputs": [
    {
     "name": "stdout",
     "output_type": "stream",
     "text": [
      "5\n"
     ]
    }
   ],
   "source": [
    "d= myadd(2,3)\n",
    "print(d)"
   ]
  },
  {
   "cell_type": "code",
   "execution_count": 39,
   "id": "59db88c5",
   "metadata": {},
   "outputs": [],
   "source": [
    "variableOutSideTheFunction=3\n",
    "def g():\n",
    "    print(variableOutSideTheFunction)"
   ]
  },
  {
   "cell_type": "code",
   "execution_count": 40,
   "id": "636544e9",
   "metadata": {},
   "outputs": [
    {
     "name": "stdout",
     "output_type": "stream",
     "text": [
      "3\n"
     ]
    }
   ],
   "source": [
    "g()"
   ]
  },
  {
   "cell_type": "code",
   "execution_count": 41,
   "id": "24104293",
   "metadata": {},
   "outputs": [],
   "source": [
    "def g():\n",
    "    variableOutSideTheFunction=5\n",
    "    print(variableOutSideTheFunction)"
   ]
  },
  {
   "cell_type": "code",
   "execution_count": 42,
   "id": "0b8a0fc6",
   "metadata": {},
   "outputs": [
    {
     "name": "stdout",
     "output_type": "stream",
     "text": [
      "5\n"
     ]
    }
   ],
   "source": [
    "g()"
   ]
  },
  {
   "cell_type": "code",
   "execution_count": 43,
   "id": "c640f03a",
   "metadata": {},
   "outputs": [],
   "source": [
    "def g():\n",
    "    variableOutSideTheFunction=5\n",
    "    #print(variableOutSideTheFunction)\n",
    "    \n",
    "g()"
   ]
  },
  {
   "cell_type": "code",
   "execution_count": 44,
   "id": "50a9ba5a",
   "metadata": {},
   "outputs": [
    {
     "name": "stdout",
     "output_type": "stream",
     "text": [
      "None\n"
     ]
    }
   ],
   "source": [
    "print(g())"
   ]
  },
  {
   "cell_type": "code",
   "execution_count": 45,
   "id": "0a174247",
   "metadata": {},
   "outputs": [
    {
     "name": "stdout",
     "output_type": "stream",
     "text": [
      "3\n"
     ]
    }
   ],
   "source": [
    "print(variableOutSideTheFunction)"
   ]
  },
  {
   "cell_type": "code",
   "execution_count": 46,
   "id": "eb1ae12c",
   "metadata": {},
   "outputs": [
    {
     "name": "stdout",
     "output_type": "stream",
     "text": [
      "B\n",
      "C\n"
     ]
    }
   ],
   "source": [
    "def h():\n",
    "    print(\"A\")\n",
    "    a=3\n",
    "    b=5\n",
    "    c=a+b\n",
    "    print(\"something\")\n",
    "    return\n",
    "print(\"B\")\n",
    "print(\"C\")"
   ]
  },
  {
   "cell_type": "code",
   "execution_count": 47,
   "id": "6d4956ee",
   "metadata": {},
   "outputs": [],
   "source": [
    "def h():\n",
    "    print(\"A\")\n",
    "    a=3\n",
    "    b=5\n",
    "    c=a+b\n",
    "    print(\"something\")\n",
    "    return c\n",
    "    print(\"B\")\n",
    "    print(\"C\")"
   ]
  },
  {
   "cell_type": "code",
   "execution_count": 48,
   "id": "70adaceb",
   "metadata": {},
   "outputs": [
    {
     "name": "stdout",
     "output_type": "stream",
     "text": [
      "A\n",
      "something\n",
      "<class 'int'>\n"
     ]
    }
   ],
   "source": [
    "print(type(h()))"
   ]
  },
  {
   "cell_type": "code",
   "execution_count": 49,
   "id": "d5aff595",
   "metadata": {},
   "outputs": [],
   "source": [
    "def r():\n",
    "    a=3\n",
    "    b=5\n",
    "    c=a+b\n",
    "    print(\"something\")\n",
    "    return a,b,c"
   ]
  },
  {
   "cell_type": "code",
   "execution_count": 50,
   "id": "5ba0a7ae",
   "metadata": {},
   "outputs": [
    {
     "name": "stdout",
     "output_type": "stream",
     "text": [
      "something\n"
     ]
    },
    {
     "data": {
      "text/plain": [
       "(3, 5, 8)"
      ]
     },
     "execution_count": 50,
     "metadata": {},
     "output_type": "execute_result"
    }
   ],
   "source": [
    "r()"
   ]
  },
  {
   "cell_type": "code",
   "execution_count": 51,
   "id": "70902724",
   "metadata": {},
   "outputs": [
    {
     "name": "stdout",
     "output_type": "stream",
     "text": [
      "something\n"
     ]
    }
   ],
   "source": [
    "p,k,l=r()"
   ]
  },
  {
   "cell_type": "code",
   "execution_count": 52,
   "id": "e56a27a6",
   "metadata": {},
   "outputs": [
    {
     "name": "stdout",
     "output_type": "stream",
     "text": [
      "3 8 5\n"
     ]
    }
   ],
   "source": [
    "print(p,l,k)"
   ]
  },
  {
   "cell_type": "code",
   "execution_count": 53,
   "id": "91e057c5",
   "metadata": {},
   "outputs": [],
   "source": [
    "def meadd(a,b):\n",
    "    sumValue =a+b\n",
    "    return"
   ]
  },
  {
   "cell_type": "code",
   "execution_count": 54,
   "id": "03b81a0b",
   "metadata": {},
   "outputs": [
    {
     "name": "stdout",
     "output_type": "stream",
     "text": [
      "5\n"
     ]
    }
   ],
   "source": [
    "s=meadd(2,3)\n",
    "print(d)"
   ]
  },
  {
   "cell_type": "code",
   "execution_count": 55,
   "id": "f8aa9861",
   "metadata": {},
   "outputs": [],
   "source": [
    "#arbitary no., ofarguments (a no., of arguments)"
   ]
  },
  {
   "cell_type": "code",
   "execution_count": 56,
   "id": "8e39531a",
   "metadata": {},
   "outputs": [
    {
     "data": {
      "text/plain": [
       "' \\ndef add(*args):\\n sum =0\\n for i in rangw(len(agrs)):\\n  sum+=args[i]\\nreturn sum\\n'"
      ]
     },
     "execution_count": 56,
     "metadata": {},
     "output_type": "execute_result"
    }
   ],
   "source": [
    "''' \n",
    "def add(*args):\n",
    " sum =0\n",
    " for i in rangw(len(agrs)):\n",
    "  sum+=args[i]\n",
    "return sum\n",
    "'''\n",
    "\n",
    "#add(3,4,5,6,7)"
   ]
  },
  {
   "cell_type": "code",
   "execution_count": 57,
   "id": "3aac10ac",
   "metadata": {},
   "outputs": [],
   "source": [
    "def myAddUniversal(*args): # multiple values can be given (lists)\n",
    "    s=0\n",
    "    for i in range(len(args)):\n",
    "        s += args[i] #s=s+args[i]\n",
    "    return s"
   ]
  },
  {
   "cell_type": "code",
   "execution_count": 58,
   "id": "b9b6eff0",
   "metadata": {},
   "outputs": [
    {
     "name": "stdout",
     "output_type": "stream",
     "text": [
      "93.6\n"
     ]
    }
   ],
   "source": [
    "print(myAddUniversal(2,4,5,4.6,78))"
   ]
  },
  {
   "cell_type": "code",
   "execution_count": 59,
   "id": "fdef42de",
   "metadata": {},
   "outputs": [
    {
     "data": {
      "text/plain": [
       "'\\ndef f(**c):\\n forx in c:\\n  print(x,c[x])\\n'"
      ]
     },
     "execution_count": 59,
     "metadata": {},
     "output_type": "execute_result"
    }
   ],
   "source": [
    "'''\n",
    "def f(**c):\n",
    " forx in c:\n",
    "  print(x,c[x])\n",
    "'''\n",
    "\n",
    "#f?(c1=\"a\",c2=\"b\",c3=\"c\")\n"
   ]
  },
  {
   "cell_type": "code",
   "execution_count": 62,
   "id": "81303c64",
   "metadata": {},
   "outputs": [],
   "source": [
    "def printAllVariableNamesAndValues(**args):\n",
    "    for x in args:\n",
    "        print(\"Variable Name is:\",x,\"And the value is:\",args[x])"
   ]
  },
  {
   "cell_type": "code",
   "execution_count": 63,
   "id": "0f4254dc",
   "metadata": {},
   "outputs": [
    {
     "name": "stdout",
     "output_type": "stream",
     "text": [
      "Variable Name is: a And the value is: 4\n",
      "Variable Name is: f And the value is: 9.3\n",
      "Variable Name is: h And the value is: 344\n",
      "Variable Name is: c And the value is: cccc\n",
      "Variable Name is: y And the value is: 9\n"
     ]
    }
   ],
   "source": [
    "printAllVariableNamesAndValues(a = 4,f = 9.3, h = 344, c = \"cccc\", y = 9)"
   ]
  },
  {
   "cell_type": "markdown",
   "id": "b062c892",
   "metadata": {},
   "source": []
  },
  {
   "cell_type": "code",
   "execution_count": 64,
   "id": "5e6aaba2",
   "metadata": {},
   "outputs": [],
   "source": [
    "def gg(s=4):\n",
    "    print(s)"
   ]
  },
  {
   "cell_type": "code",
   "execution_count": 65,
   "id": "3d60c70a",
   "metadata": {},
   "outputs": [
    {
     "name": "stdout",
     "output_type": "stream",
     "text": [
      "4\n"
     ]
    }
   ],
   "source": [
    "gg()"
   ]
  },
  {
   "cell_type": "code",
   "execution_count": 66,
   "id": "13d35ed7",
   "metadata": {},
   "outputs": [
    {
     "name": "stdout",
     "output_type": "stream",
     "text": [
      "77\n"
     ]
    }
   ],
   "source": [
    "gg(77)"
   ]
  },
  {
   "cell_type": "code",
   "execution_count": 69,
   "id": "96eb484e",
   "metadata": {},
   "outputs": [
    {
     "name": "stdout",
     "output_type": "stream",
     "text": [
      "[-9, 2, 3]\n"
     ]
    }
   ],
   "source": [
    "LI=[1,2,3,]\n",
    "LI2=LI\n",
    "LI2[0] = -9\n",
    "print(LI)"
   ]
  },
  {
   "cell_type": "code",
   "execution_count": 70,
   "id": "908b3fbe",
   "metadata": {},
   "outputs": [],
   "source": [
    "def ff(L=[1,2]):\n",
    "    for i in L:\n",
    "        print(i)"
   ]
  },
  {
   "cell_type": "code",
   "execution_count": 72,
   "id": "8e5d9fd8",
   "metadata": {},
   "outputs": [
    {
     "name": "stdout",
     "output_type": "stream",
     "text": [
      "1\n",
      "2\n"
     ]
    }
   ],
   "source": [
    "L2=[12,3,4]# default values\n",
    "ff()"
   ]
  },
  {
   "cell_type": "code",
   "execution_count": 73,
   "id": "de2bed5b",
   "metadata": {},
   "outputs": [
    {
     "name": "stdout",
     "output_type": "stream",
     "text": [
      "12\n",
      "3\n",
      "4\n"
     ]
    }
   ],
   "source": [
    "ff(L2)"
   ]
  },
  {
   "cell_type": "markdown",
   "id": "06dae65f",
   "metadata": {},
   "source": [
    "modules"
   ]
  },
  {
   "cell_type": "code",
   "execution_count": null,
   "id": "81424732",
   "metadata": {},
   "outputs": [],
   "source": []
  }
 ],
 "metadata": {
  "kernelspec": {
   "display_name": "Python 3 (ipykernel)",
   "language": "python",
   "name": "python3"
  },
  "language_info": {
   "codemirror_mode": {
    "name": "ipython",
    "version": 3
   },
   "file_extension": ".py",
   "mimetype": "text/x-python",
   "name": "python",
   "nbconvert_exporter": "python",
   "pygments_lexer": "ipython3",
   "version": "3.9.12"
  }
 },
 "nbformat": 4,
 "nbformat_minor": 5
}
