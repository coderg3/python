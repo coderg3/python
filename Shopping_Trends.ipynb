{
 "cells": [
  {
   "cell_type": "markdown",
   "id": "5e70143b",
   "metadata": {},
   "source": [
    "# CUSTOMER SHOPPING PATTERNS AND BEHAVIOUR"
   ]
  },
  {
   "cell_type": "code",
   "execution_count": 1,
   "id": "b79d93c9",
   "metadata": {},
   "outputs": [],
   "source": [
    "# C:\\Users\\DELL\\Desktop\\Datasets"
   ]
  },
  {
   "cell_type": "markdown",
   "id": "b39b4eff",
   "metadata": {},
   "source": [
    "Analyzing shopping data of customers to gain insights into customer preferences and trends in shopping. Thus businesses use this information to tailor their products, refine marketing strategies, and improve the overall customer experience to gain profits."
   ]
  },
  {
   "cell_type": "markdown",
   "id": "ccb55c4a",
   "metadata": {},
   "source": [
    "## Data Manipulation and Data Analysis"
   ]
  },
  {
   "cell_type": "markdown",
   "id": "3af42cf5",
   "metadata": {},
   "source": [
    "#### Importing libraries"
   ]
  },
  {
   "cell_type": "code",
   "execution_count": 2,
   "id": "e1cab587",
   "metadata": {},
   "outputs": [],
   "source": [
    "import pandas as pd  # data manipulation and data analysis library\n",
    "import numpy as np # numerical and scientific computing\n",
    "import matplotlib.pyplot as plt #data visualization\n",
    "import seaborn as sns # statistical data visualization library built on Matplotlib"
   ]
  },
  {
   "cell_type": "markdown",
   "id": "0c8eccc6",
   "metadata": {},
   "source": [
    "#### Loading Dataset"
   ]
  },
  {
   "cell_type": "code",
   "execution_count": 3,
   "id": "43b396b1",
   "metadata": {},
   "outputs": [],
   "source": [
    "# Read a CSV file into a DataFrame\n",
    "custdata = pd.read_csv(r'C:\\Users\\DELL\\Desktop\\Datasets\\shopping_trends_updated.csv')"
   ]
  },
  {
   "cell_type": "code",
   "execution_count": 4,
   "id": "3565c3b9",
   "metadata": {},
   "outputs": [
    {
     "data": {
      "text/html": [
       "<div>\n",
       "<style scoped>\n",
       "    .dataframe tbody tr th:only-of-type {\n",
       "        vertical-align: middle;\n",
       "    }\n",
       "\n",
       "    .dataframe tbody tr th {\n",
       "        vertical-align: top;\n",
       "    }\n",
       "\n",
       "    .dataframe thead th {\n",
       "        text-align: right;\n",
       "    }\n",
       "</style>\n",
       "<table border=\"1\" class=\"dataframe\">\n",
       "  <thead>\n",
       "    <tr style=\"text-align: right;\">\n",
       "      <th></th>\n",
       "      <th>Customer ID</th>\n",
       "      <th>Age</th>\n",
       "      <th>Gender</th>\n",
       "      <th>Item Purchased</th>\n",
       "      <th>Category</th>\n",
       "      <th>Purchase Amount (USD)</th>\n",
       "      <th>Location</th>\n",
       "      <th>Size</th>\n",
       "      <th>Color</th>\n",
       "      <th>Season</th>\n",
       "      <th>Review Rating</th>\n",
       "      <th>Subscription Status</th>\n",
       "      <th>Shipping Type</th>\n",
       "      <th>Discount Applied</th>\n",
       "      <th>Promo Code Used</th>\n",
       "      <th>Previous Purchases</th>\n",
       "      <th>Payment Method</th>\n",
       "      <th>Frequency of Purchases</th>\n",
       "    </tr>\n",
       "  </thead>\n",
       "  <tbody>\n",
       "    <tr>\n",
       "      <th>0</th>\n",
       "      <td>1</td>\n",
       "      <td>55</td>\n",
       "      <td>Male</td>\n",
       "      <td>Blouse</td>\n",
       "      <td>Clothing</td>\n",
       "      <td>53</td>\n",
       "      <td>Kentucky</td>\n",
       "      <td>L</td>\n",
       "      <td>Gray</td>\n",
       "      <td>Winter</td>\n",
       "      <td>3.1</td>\n",
       "      <td>Yes</td>\n",
       "      <td>Express</td>\n",
       "      <td>Yes</td>\n",
       "      <td>Yes</td>\n",
       "      <td>14</td>\n",
       "      <td>Venmo</td>\n",
       "      <td>Fortnightly</td>\n",
       "    </tr>\n",
       "    <tr>\n",
       "      <th>1</th>\n",
       "      <td>2</td>\n",
       "      <td>19</td>\n",
       "      <td>Male</td>\n",
       "      <td>Sweater</td>\n",
       "      <td>Clothing</td>\n",
       "      <td>64</td>\n",
       "      <td>Maine</td>\n",
       "      <td>L</td>\n",
       "      <td>Maroon</td>\n",
       "      <td>Winter</td>\n",
       "      <td>3.1</td>\n",
       "      <td>Yes</td>\n",
       "      <td>Express</td>\n",
       "      <td>Yes</td>\n",
       "      <td>Yes</td>\n",
       "      <td>2</td>\n",
       "      <td>Cash</td>\n",
       "      <td>Fortnightly</td>\n",
       "    </tr>\n",
       "    <tr>\n",
       "      <th>2</th>\n",
       "      <td>3</td>\n",
       "      <td>50</td>\n",
       "      <td>Male</td>\n",
       "      <td>Jeans</td>\n",
       "      <td>Clothing</td>\n",
       "      <td>73</td>\n",
       "      <td>Massachusetts</td>\n",
       "      <td>S</td>\n",
       "      <td>Maroon</td>\n",
       "      <td>Spring</td>\n",
       "      <td>3.1</td>\n",
       "      <td>Yes</td>\n",
       "      <td>Free Shipping</td>\n",
       "      <td>Yes</td>\n",
       "      <td>Yes</td>\n",
       "      <td>23</td>\n",
       "      <td>Credit Card</td>\n",
       "      <td>Weekly</td>\n",
       "    </tr>\n",
       "    <tr>\n",
       "      <th>3</th>\n",
       "      <td>4</td>\n",
       "      <td>21</td>\n",
       "      <td>Male</td>\n",
       "      <td>Sandals</td>\n",
       "      <td>Footwear</td>\n",
       "      <td>90</td>\n",
       "      <td>Rhode Island</td>\n",
       "      <td>M</td>\n",
       "      <td>Maroon</td>\n",
       "      <td>Spring</td>\n",
       "      <td>3.5</td>\n",
       "      <td>Yes</td>\n",
       "      <td>Next Day Air</td>\n",
       "      <td>Yes</td>\n",
       "      <td>Yes</td>\n",
       "      <td>49</td>\n",
       "      <td>PayPal</td>\n",
       "      <td>Weekly</td>\n",
       "    </tr>\n",
       "    <tr>\n",
       "      <th>4</th>\n",
       "      <td>5</td>\n",
       "      <td>45</td>\n",
       "      <td>Male</td>\n",
       "      <td>Blouse</td>\n",
       "      <td>Clothing</td>\n",
       "      <td>49</td>\n",
       "      <td>Oregon</td>\n",
       "      <td>M</td>\n",
       "      <td>Turquoise</td>\n",
       "      <td>Spring</td>\n",
       "      <td>2.7</td>\n",
       "      <td>Yes</td>\n",
       "      <td>Free Shipping</td>\n",
       "      <td>Yes</td>\n",
       "      <td>Yes</td>\n",
       "      <td>31</td>\n",
       "      <td>PayPal</td>\n",
       "      <td>Annually</td>\n",
       "    </tr>\n",
       "  </tbody>\n",
       "</table>\n",
       "</div>"
      ],
      "text/plain": [
       "   Customer ID  Age Gender Item Purchased  Category  Purchase Amount (USD)  \\\n",
       "0            1   55   Male         Blouse  Clothing                     53   \n",
       "1            2   19   Male        Sweater  Clothing                     64   \n",
       "2            3   50   Male          Jeans  Clothing                     73   \n",
       "3            4   21   Male        Sandals  Footwear                     90   \n",
       "4            5   45   Male         Blouse  Clothing                     49   \n",
       "\n",
       "        Location Size      Color  Season  Review Rating Subscription Status  \\\n",
       "0       Kentucky    L       Gray  Winter            3.1                 Yes   \n",
       "1          Maine    L     Maroon  Winter            3.1                 Yes   \n",
       "2  Massachusetts    S     Maroon  Spring            3.1                 Yes   \n",
       "3   Rhode Island    M     Maroon  Spring            3.5                 Yes   \n",
       "4         Oregon    M  Turquoise  Spring            2.7                 Yes   \n",
       "\n",
       "   Shipping Type Discount Applied Promo Code Used  Previous Purchases  \\\n",
       "0        Express              Yes             Yes                  14   \n",
       "1        Express              Yes             Yes                   2   \n",
       "2  Free Shipping              Yes             Yes                  23   \n",
       "3   Next Day Air              Yes             Yes                  49   \n",
       "4  Free Shipping              Yes             Yes                  31   \n",
       "\n",
       "  Payment Method Frequency of Purchases  \n",
       "0          Venmo            Fortnightly  \n",
       "1           Cash            Fortnightly  \n",
       "2    Credit Card                 Weekly  \n",
       "3         PayPal                 Weekly  \n",
       "4         PayPal               Annually  "
      ]
     },
     "execution_count": 4,
     "metadata": {},
     "output_type": "execute_result"
    }
   ],
   "source": [
    "custdata.head() #view dataset structure"
   ]
  },
  {
   "cell_type": "code",
   "execution_count": 5,
   "id": "3e833892",
   "metadata": {},
   "outputs": [
    {
     "data": {
      "text/html": [
       "<div>\n",
       "<style scoped>\n",
       "    .dataframe tbody tr th:only-of-type {\n",
       "        vertical-align: middle;\n",
       "    }\n",
       "\n",
       "    .dataframe tbody tr th {\n",
       "        vertical-align: top;\n",
       "    }\n",
       "\n",
       "    .dataframe thead th {\n",
       "        text-align: right;\n",
       "    }\n",
       "</style>\n",
       "<table border=\"1\" class=\"dataframe\">\n",
       "  <thead>\n",
       "    <tr style=\"text-align: right;\">\n",
       "      <th></th>\n",
       "      <th>Customer ID</th>\n",
       "      <th>Age</th>\n",
       "      <th>Gender</th>\n",
       "      <th>Item Purchased</th>\n",
       "      <th>Category</th>\n",
       "      <th>Purchase Amount (USD)</th>\n",
       "      <th>Location</th>\n",
       "      <th>Size</th>\n",
       "      <th>Color</th>\n",
       "      <th>Season</th>\n",
       "      <th>Review Rating</th>\n",
       "      <th>Subscription Status</th>\n",
       "      <th>Shipping Type</th>\n",
       "      <th>Discount Applied</th>\n",
       "      <th>Promo Code Used</th>\n",
       "      <th>Previous Purchases</th>\n",
       "      <th>Payment Method</th>\n",
       "      <th>Frequency of Purchases</th>\n",
       "    </tr>\n",
       "  </thead>\n",
       "  <tbody>\n",
       "    <tr>\n",
       "      <th>3897</th>\n",
       "      <td>3898</td>\n",
       "      <td>46</td>\n",
       "      <td>Female</td>\n",
       "      <td>Belt</td>\n",
       "      <td>Accessories</td>\n",
       "      <td>33</td>\n",
       "      <td>New Jersey</td>\n",
       "      <td>L</td>\n",
       "      <td>Green</td>\n",
       "      <td>Spring</td>\n",
       "      <td>2.9</td>\n",
       "      <td>No</td>\n",
       "      <td>Standard</td>\n",
       "      <td>No</td>\n",
       "      <td>No</td>\n",
       "      <td>24</td>\n",
       "      <td>Venmo</td>\n",
       "      <td>Quarterly</td>\n",
       "    </tr>\n",
       "    <tr>\n",
       "      <th>3898</th>\n",
       "      <td>3899</td>\n",
       "      <td>44</td>\n",
       "      <td>Female</td>\n",
       "      <td>Shoes</td>\n",
       "      <td>Footwear</td>\n",
       "      <td>77</td>\n",
       "      <td>Minnesota</td>\n",
       "      <td>S</td>\n",
       "      <td>Brown</td>\n",
       "      <td>Summer</td>\n",
       "      <td>3.8</td>\n",
       "      <td>No</td>\n",
       "      <td>Express</td>\n",
       "      <td>No</td>\n",
       "      <td>No</td>\n",
       "      <td>24</td>\n",
       "      <td>Venmo</td>\n",
       "      <td>Weekly</td>\n",
       "    </tr>\n",
       "    <tr>\n",
       "      <th>3899</th>\n",
       "      <td>3900</td>\n",
       "      <td>52</td>\n",
       "      <td>Female</td>\n",
       "      <td>Handbag</td>\n",
       "      <td>Accessories</td>\n",
       "      <td>81</td>\n",
       "      <td>California</td>\n",
       "      <td>M</td>\n",
       "      <td>Beige</td>\n",
       "      <td>Spring</td>\n",
       "      <td>3.1</td>\n",
       "      <td>No</td>\n",
       "      <td>Store Pickup</td>\n",
       "      <td>No</td>\n",
       "      <td>No</td>\n",
       "      <td>33</td>\n",
       "      <td>Venmo</td>\n",
       "      <td>Quarterly</td>\n",
       "    </tr>\n",
       "  </tbody>\n",
       "</table>\n",
       "</div>"
      ],
      "text/plain": [
       "      Customer ID  Age  Gender Item Purchased     Category  \\\n",
       "3897         3898   46  Female           Belt  Accessories   \n",
       "3898         3899   44  Female          Shoes     Footwear   \n",
       "3899         3900   52  Female        Handbag  Accessories   \n",
       "\n",
       "      Purchase Amount (USD)    Location Size  Color  Season  Review Rating  \\\n",
       "3897                     33  New Jersey    L  Green  Spring            2.9   \n",
       "3898                     77   Minnesota    S  Brown  Summer            3.8   \n",
       "3899                     81  California    M  Beige  Spring            3.1   \n",
       "\n",
       "     Subscription Status Shipping Type Discount Applied Promo Code Used  \\\n",
       "3897                  No      Standard               No              No   \n",
       "3898                  No       Express               No              No   \n",
       "3899                  No  Store Pickup               No              No   \n",
       "\n",
       "      Previous Purchases Payment Method Frequency of Purchases  \n",
       "3897                  24          Venmo              Quarterly  \n",
       "3898                  24          Venmo                 Weekly  \n",
       "3899                  33          Venmo              Quarterly  "
      ]
     },
     "execution_count": 5,
     "metadata": {},
     "output_type": "execute_result"
    }
   ],
   "source": [
    "custdata.tail(3)"
   ]
  },
  {
   "cell_type": "code",
   "execution_count": 20,
   "id": "d139e24c",
   "metadata": {},
   "outputs": [
    {
     "data": {
      "text/plain": [
       "Customer ID               3900\n",
       "Age                       3900\n",
       "Gender                    3900\n",
       "Item Purchased            3900\n",
       "Category                  3900\n",
       "Purchase Amount (USD)     3900\n",
       "Location                  3900\n",
       "Size                      3900\n",
       "Color                     3900\n",
       "Season                    3900\n",
       "Review Rating             3900\n",
       "Subscription Status       3900\n",
       "Shipping Type             3900\n",
       "Discount Applied          3900\n",
       "Promo Code Used           3900\n",
       "Previous Purchases        3900\n",
       "Payment Method            3900\n",
       "Frequency of Purchases    3900\n",
       "dtype: int64"
      ]
     },
     "execution_count": 20,
     "metadata": {},
     "output_type": "execute_result"
    }
   ],
   "source": [
    "custdata.count()"
   ]
  },
  {
   "cell_type": "code",
   "execution_count": 6,
   "id": "a9973502",
   "metadata": {},
   "outputs": [
    {
     "data": {
      "text/plain": [
       "(3900, 18)"
      ]
     },
     "execution_count": 6,
     "metadata": {},
     "output_type": "execute_result"
    }
   ],
   "source": [
    "custdata.shape"
   ]
  },
  {
   "cell_type": "markdown",
   "id": "51dd3378",
   "metadata": {},
   "source": [
    "This Dataset have information about 3900 customer in 18 different categories"
   ]
  },
  {
   "cell_type": "code",
   "execution_count": 7,
   "id": "485bfe18",
   "metadata": {},
   "outputs": [
    {
     "data": {
      "text/plain": [
       "Index(['Customer ID', 'Age', 'Gender', 'Item Purchased', 'Category',\n",
       "       'Purchase Amount (USD)', 'Location', 'Size', 'Color', 'Season',\n",
       "       'Review Rating', 'Subscription Status', 'Shipping Type',\n",
       "       'Discount Applied', 'Promo Code Used', 'Previous Purchases',\n",
       "       'Payment Method', 'Frequency of Purchases'],\n",
       "      dtype='object')"
      ]
     },
     "execution_count": 7,
     "metadata": {},
     "output_type": "execute_result"
    }
   ],
   "source": [
    "custdata.columns #Dataset Glossary (Column-wise)"
   ]
  },
  {
   "cell_type": "code",
   "execution_count": 8,
   "id": "66bbe8bf",
   "metadata": {},
   "outputs": [
    {
     "name": "stdout",
     "output_type": "stream",
     "text": [
      "<class 'pandas.core.frame.DataFrame'>\n",
      "RangeIndex: 3900 entries, 0 to 3899\n",
      "Data columns (total 18 columns):\n",
      " #   Column                  Non-Null Count  Dtype  \n",
      "---  ------                  --------------  -----  \n",
      " 0   Customer ID             3900 non-null   int64  \n",
      " 1   Age                     3900 non-null   int64  \n",
      " 2   Gender                  3900 non-null   object \n",
      " 3   Item Purchased          3900 non-null   object \n",
      " 4   Category                3900 non-null   object \n",
      " 5   Purchase Amount (USD)   3900 non-null   int64  \n",
      " 6   Location                3900 non-null   object \n",
      " 7   Size                    3900 non-null   object \n",
      " 8   Color                   3900 non-null   object \n",
      " 9   Season                  3900 non-null   object \n",
      " 10  Review Rating           3900 non-null   float64\n",
      " 11  Subscription Status     3900 non-null   object \n",
      " 12  Shipping Type           3900 non-null   object \n",
      " 13  Discount Applied        3900 non-null   object \n",
      " 14  Promo Code Used         3900 non-null   object \n",
      " 15  Previous Purchases      3900 non-null   int64  \n",
      " 16  Payment Method          3900 non-null   object \n",
      " 17  Frequency of Purchases  3900 non-null   object \n",
      "dtypes: float64(1), int64(4), object(13)\n",
      "memory usage: 548.6+ KB\n"
     ]
    }
   ],
   "source": [
    "custdata.info() #Data type of columns"
   ]
  },
  {
   "cell_type": "markdown",
   "id": "c147a34d",
   "metadata": {},
   "source": [
    "No null values in data and have two types of data (int64, object)13 categorical columns, 5 numerical data."
   ]
  },
  {
   "cell_type": "code",
   "execution_count": 9,
   "id": "19d7d0e8",
   "metadata": {},
   "outputs": [
    {
     "data": {
      "text/html": [
       "<div>\n",
       "<style scoped>\n",
       "    .dataframe tbody tr th:only-of-type {\n",
       "        vertical-align: middle;\n",
       "    }\n",
       "\n",
       "    .dataframe tbody tr th {\n",
       "        vertical-align: top;\n",
       "    }\n",
       "\n",
       "    .dataframe thead th {\n",
       "        text-align: right;\n",
       "    }\n",
       "</style>\n",
       "<table border=\"1\" class=\"dataframe\">\n",
       "  <thead>\n",
       "    <tr style=\"text-align: right;\">\n",
       "      <th></th>\n",
       "      <th>Gender</th>\n",
       "      <th>Item Purchased</th>\n",
       "      <th>Category</th>\n",
       "      <th>Location</th>\n",
       "      <th>Size</th>\n",
       "      <th>Color</th>\n",
       "      <th>Season</th>\n",
       "      <th>Subscription Status</th>\n",
       "      <th>Shipping Type</th>\n",
       "      <th>Discount Applied</th>\n",
       "      <th>Promo Code Used</th>\n",
       "      <th>Payment Method</th>\n",
       "      <th>Frequency of Purchases</th>\n",
       "    </tr>\n",
       "  </thead>\n",
       "  <tbody>\n",
       "    <tr>\n",
       "      <th>count</th>\n",
       "      <td>3900</td>\n",
       "      <td>3900</td>\n",
       "      <td>3900</td>\n",
       "      <td>3900</td>\n",
       "      <td>3900</td>\n",
       "      <td>3900</td>\n",
       "      <td>3900</td>\n",
       "      <td>3900</td>\n",
       "      <td>3900</td>\n",
       "      <td>3900</td>\n",
       "      <td>3900</td>\n",
       "      <td>3900</td>\n",
       "      <td>3900</td>\n",
       "    </tr>\n",
       "    <tr>\n",
       "      <th>unique</th>\n",
       "      <td>2</td>\n",
       "      <td>25</td>\n",
       "      <td>4</td>\n",
       "      <td>50</td>\n",
       "      <td>4</td>\n",
       "      <td>25</td>\n",
       "      <td>4</td>\n",
       "      <td>2</td>\n",
       "      <td>6</td>\n",
       "      <td>2</td>\n",
       "      <td>2</td>\n",
       "      <td>6</td>\n",
       "      <td>7</td>\n",
       "    </tr>\n",
       "    <tr>\n",
       "      <th>top</th>\n",
       "      <td>Male</td>\n",
       "      <td>Blouse</td>\n",
       "      <td>Clothing</td>\n",
       "      <td>Montana</td>\n",
       "      <td>M</td>\n",
       "      <td>Olive</td>\n",
       "      <td>Spring</td>\n",
       "      <td>No</td>\n",
       "      <td>Free Shipping</td>\n",
       "      <td>No</td>\n",
       "      <td>No</td>\n",
       "      <td>PayPal</td>\n",
       "      <td>Every 3 Months</td>\n",
       "    </tr>\n",
       "    <tr>\n",
       "      <th>freq</th>\n",
       "      <td>2652</td>\n",
       "      <td>171</td>\n",
       "      <td>1737</td>\n",
       "      <td>96</td>\n",
       "      <td>1755</td>\n",
       "      <td>177</td>\n",
       "      <td>999</td>\n",
       "      <td>2847</td>\n",
       "      <td>675</td>\n",
       "      <td>2223</td>\n",
       "      <td>2223</td>\n",
       "      <td>677</td>\n",
       "      <td>584</td>\n",
       "    </tr>\n",
       "  </tbody>\n",
       "</table>\n",
       "</div>"
      ],
      "text/plain": [
       "       Gender Item Purchased  Category Location  Size  Color  Season  \\\n",
       "count    3900           3900      3900     3900  3900   3900    3900   \n",
       "unique      2             25         4       50     4     25       4   \n",
       "top      Male         Blouse  Clothing  Montana     M  Olive  Spring   \n",
       "freq     2652            171      1737       96  1755    177     999   \n",
       "\n",
       "       Subscription Status  Shipping Type Discount Applied Promo Code Used  \\\n",
       "count                 3900           3900             3900            3900   \n",
       "unique                   2              6                2               2   \n",
       "top                     No  Free Shipping               No              No   \n",
       "freq                  2847            675             2223            2223   \n",
       "\n",
       "       Payment Method Frequency of Purchases  \n",
       "count            3900                   3900  \n",
       "unique              6                      7  \n",
       "top            PayPal         Every 3 Months  \n",
       "freq              677                    584  "
      ]
     },
     "execution_count": 9,
     "metadata": {},
     "output_type": "execute_result"
    }
   ],
   "source": [
    "custdata.describe(include='object') # returning only object columns"
   ]
  },
  {
   "cell_type": "code",
   "execution_count": 10,
   "id": "fc61aaae",
   "metadata": {},
   "outputs": [],
   "source": [
    "  # returning only numerical columns"
   ]
  },
  {
   "cell_type": "code",
   "execution_count": 11,
   "id": "8fabd84e",
   "metadata": {},
   "outputs": [
    {
     "data": {
      "text/plain": [
       "Index(['Customer ID', 'Age', 'Purchase Amount (USD)', 'Review Rating',\n",
       "       'Previous Purchases'],\n",
       "      dtype='object')"
      ]
     },
     "execution_count": 11,
     "metadata": {},
     "output_type": "execute_result"
    }
   ],
   "source": [
    "custdata.describe().columns"
   ]
  },
  {
   "cell_type": "code",
   "execution_count": 12,
   "id": "bea7b3b6",
   "metadata": {},
   "outputs": [
    {
     "name": "stdout",
     "output_type": "stream",
     "text": [
      "Customer ID\n",
      "[   1    2    3 ... 3898 3899 3900]\n",
      "***************\n",
      "Age\n",
      "[55 19 50 21 45 46 63 27 26 57 53 30 61 65 64 25 52 66 31 56 18 38 54 33\n",
      " 36 35 29 70 69 67 20 39 42 68 49 59 47 40 41 48 22 24 44 37 58 32 62 51\n",
      " 28 43 34 23 60]\n",
      "***************\n",
      "Purchase Amount (USD)\n",
      "[ 53  64  73  90  49  20  85  34  97  31  68  72  51  81  36  38  48  62\n",
      "  37  88  22  25  56  94  79  67  91  33  69  45  60  76  39 100  21  43\n",
      "  54  55  30  28  59  24  83  46  70  29  26  58  96  40  32  95  41  47\n",
      "  99  87  92  98  89  35  75  65  86  84  77  27  23  74  80  42  61  82\n",
      "  78  93  50  57  66  44  52  71  63]\n",
      "***************\n",
      "Review Rating\n",
      "[3.1 3.5 2.7 2.9 3.2 2.6 4.8 4.1 4.9 4.5 4.7 2.8 4.6 3.3 4.4 3.6 5.  4.\n",
      " 3.7 4.2 3.9 3.  3.8 3.4 4.3 2.5]\n",
      "***************\n",
      "Previous Purchases\n",
      "[14  2 23 49 31 19  8  4 26 10 37 34 44 36 17 46 50 22 32 40 16 13  7 41\n",
      " 45 38 48 18 15 25 39 35 29 21 43  3  5 24 42 47 28 20 33  1  9 12 27 11\n",
      " 30  6]\n",
      "***************\n"
     ]
    }
   ],
   "source": [
    "for items in custdata.describe().columns:        # filtering numerical data and getting unique values\n",
    "    print(items)\n",
    "    print(custdata[items].unique())\n",
    "    print('*'*15)"
   ]
  },
  {
   "cell_type": "code",
   "execution_count": 13,
   "id": "feea7446",
   "metadata": {},
   "outputs": [
    {
     "name": "stdout",
     "output_type": "stream",
     "text": [
      "Gender\n",
      "['Male' 'Female']\n",
      "***************\n",
      "Item Purchased\n",
      "['Blouse' 'Sweater' 'Jeans' 'Sandals' 'Sneakers' 'Shirt' 'Shorts' 'Coat'\n",
      " 'Handbag' 'Shoes' 'Dress' 'Skirt' 'Sunglasses' 'Pants' 'Jacket' 'Hoodie'\n",
      " 'Jewelry' 'T-shirt' 'Scarf' 'Hat' 'Socks' 'Backpack' 'Belt' 'Boots'\n",
      " 'Gloves']\n",
      "***************\n",
      "Category\n",
      "['Clothing' 'Footwear' 'Outerwear' 'Accessories']\n",
      "***************\n",
      "Location\n",
      "['Kentucky' 'Maine' 'Massachusetts' 'Rhode Island' 'Oregon' 'Wyoming'\n",
      " 'Montana' 'Louisiana' 'West Virginia' 'Missouri' 'Arkansas' 'Hawaii'\n",
      " 'Delaware' 'New Hampshire' 'New York' 'Alabama' 'Mississippi'\n",
      " 'North Carolina' 'California' 'Oklahoma' 'Florida' 'Texas' 'Nevada'\n",
      " 'Kansas' 'Colorado' 'North Dakota' 'Illinois' 'Indiana' 'Arizona'\n",
      " 'Alaska' 'Tennessee' 'Ohio' 'New Jersey' 'Maryland' 'Vermont'\n",
      " 'New Mexico' 'South Carolina' 'Idaho' 'Pennsylvania' 'Connecticut' 'Utah'\n",
      " 'Virginia' 'Georgia' 'Nebraska' 'Iowa' 'South Dakota' 'Minnesota'\n",
      " 'Washington' 'Wisconsin' 'Michigan']\n",
      "***************\n",
      "Size\n",
      "['L' 'S' 'M' 'XL']\n",
      "***************\n",
      "Color\n",
      "['Gray' 'Maroon' 'Turquoise' 'White' 'Charcoal' 'Silver' 'Pink' 'Purple'\n",
      " 'Olive' 'Gold' 'Violet' 'Teal' 'Lavender' 'Black' 'Green' 'Peach' 'Red'\n",
      " 'Cyan' 'Brown' 'Beige' 'Orange' 'Indigo' 'Yellow' 'Magenta' 'Blue']\n",
      "***************\n",
      "Season\n",
      "['Winter' 'Spring' 'Summer' 'Fall']\n",
      "***************\n",
      "Subscription Status\n",
      "['Yes' 'No']\n",
      "***************\n",
      "Shipping Type\n",
      "['Express' 'Free Shipping' 'Next Day Air' 'Standard' '2-Day Shipping'\n",
      " 'Store Pickup']\n",
      "***************\n",
      "Discount Applied\n",
      "['Yes' 'No']\n",
      "***************\n",
      "Promo Code Used\n",
      "['Yes' 'No']\n",
      "***************\n",
      "Payment Method\n",
      "['Venmo' 'Cash' 'Credit Card' 'PayPal' 'Bank Transfer' 'Debit Card']\n",
      "***************\n",
      "Frequency of Purchases\n",
      "['Fortnightly' 'Weekly' 'Annually' 'Quarterly' 'Bi-Weekly' 'Monthly'\n",
      " 'Every 3 Months']\n",
      "***************\n"
     ]
    }
   ],
   "source": [
    "for items in custdata.describe(include='object').columns:        # filtering data object and getting unique values\n",
    "    print(items)\n",
    "    print(custdata[items].unique())\n",
    "    print('*'*15)"
   ]
  },
  {
   "cell_type": "code",
   "execution_count": 14,
   "id": "af36a713",
   "metadata": {},
   "outputs": [
    {
     "data": {
      "text/plain": [
       "Customer ID               0\n",
       "Age                       0\n",
       "Gender                    0\n",
       "Item Purchased            0\n",
       "Category                  0\n",
       "Purchase Amount (USD)     0\n",
       "Location                  0\n",
       "Size                      0\n",
       "Color                     0\n",
       "Season                    0\n",
       "Review Rating             0\n",
       "Subscription Status       0\n",
       "Shipping Type             0\n",
       "Discount Applied          0\n",
       "Promo Code Used           0\n",
       "Previous Purchases        0\n",
       "Payment Method            0\n",
       "Frequency of Purchases    0\n",
       "dtype: int64"
      ]
     },
     "execution_count": 14,
     "metadata": {},
     "output_type": "execute_result"
    }
   ],
   "source": [
    "custdata.isnull().sum() "
   ]
  },
  {
   "cell_type": "code",
   "execution_count": 21,
   "id": "921c41c7",
   "metadata": {},
   "outputs": [],
   "source": [
    "# str_custdata = str(custdata)\n",
    "# print(str_custdata)"
   ]
  },
  {
   "cell_type": "code",
   "execution_count": 16,
   "id": "7b882e5e",
   "metadata": {},
   "outputs": [],
   "source": [
    "grouped_custdata = custdata.groupby(['Category'])['Item Purchased'].apply(list).reset_index()"
   ]
  },
  {
   "cell_type": "code",
   "execution_count": 17,
   "id": "86223d63",
   "metadata": {},
   "outputs": [
    {
     "data": {
      "text/html": [
       "<div>\n",
       "<style scoped>\n",
       "    .dataframe tbody tr th:only-of-type {\n",
       "        vertical-align: middle;\n",
       "    }\n",
       "\n",
       "    .dataframe tbody tr th {\n",
       "        vertical-align: top;\n",
       "    }\n",
       "\n",
       "    .dataframe thead th {\n",
       "        text-align: right;\n",
       "    }\n",
       "</style>\n",
       "<table border=\"1\" class=\"dataframe\">\n",
       "  <thead>\n",
       "    <tr style=\"text-align: right;\">\n",
       "      <th></th>\n",
       "      <th>Category</th>\n",
       "      <th>Item Purchased</th>\n",
       "    </tr>\n",
       "  </thead>\n",
       "  <tbody>\n",
       "    <tr>\n",
       "      <th>0</th>\n",
       "      <td>Accessories</td>\n",
       "      <td>[Handbag, Sunglasses, Jewelry, Handbag, Jewelr...</td>\n",
       "    </tr>\n",
       "    <tr>\n",
       "      <th>1</th>\n",
       "      <td>Clothing</td>\n",
       "      <td>[Blouse, Sweater, Jeans, Blouse, Shirt, Shorts...</td>\n",
       "    </tr>\n",
       "    <tr>\n",
       "      <th>2</th>\n",
       "      <td>Footwear</td>\n",
       "      <td>[Sandals, Sneakers, Shoes, Sneakers, Boots, Sa...</td>\n",
       "    </tr>\n",
       "    <tr>\n",
       "      <th>3</th>\n",
       "      <td>Outerwear</td>\n",
       "      <td>[Coat, Coat, Coat, Jacket, Jacket, Coat, Coat,...</td>\n",
       "    </tr>\n",
       "  </tbody>\n",
       "</table>\n",
       "</div>"
      ],
      "text/plain": [
       "      Category                                     Item Purchased\n",
       "0  Accessories  [Handbag, Sunglasses, Jewelry, Handbag, Jewelr...\n",
       "1     Clothing  [Blouse, Sweater, Jeans, Blouse, Shirt, Shorts...\n",
       "2     Footwear  [Sandals, Sneakers, Shoes, Sneakers, Boots, Sa...\n",
       "3    Outerwear  [Coat, Coat, Coat, Jacket, Jacket, Coat, Coat,..."
      ]
     },
     "execution_count": 17,
     "metadata": {},
     "output_type": "execute_result"
    }
   ],
   "source": [
    "grouped_custdata.head()"
   ]
  },
  {
   "cell_type": "code",
   "execution_count": 18,
   "id": "2c7c2bf8",
   "metadata": {},
   "outputs": [
    {
     "data": {
      "text/plain": [
       "(878, 18)"
      ]
     },
     "execution_count": 18,
     "metadata": {},
     "output_type": "execute_result"
    }
   ],
   "source": [
    "young_customers = custdata[custdata['Age'] < 30]\n",
    "young_customers.shape"
   ]
  },
  {
   "cell_type": "code",
   "execution_count": 19,
   "id": "6289191a",
   "metadata": {},
   "outputs": [
    {
     "data": {
      "text/plain": [
       "(36, 18)"
      ]
     },
     "execution_count": 19,
     "metadata": {},
     "output_type": "execute_result"
    }
   ],
   "source": [
    "highvalue_customers = custdata[custdata['Purchase Amount (USD)'] >= 100]\n",
    "highvalue_customers.shape"
   ]
  },
  {
   "cell_type": "code",
   "execution_count": 25,
   "id": "0f01c34a",
   "metadata": {},
   "outputs": [
    {
     "data": {
      "text/plain": [
       "Montana           96\n",
       "California        95\n",
       "Idaho             93\n",
       "Illinois          92\n",
       "Alabama           89\n",
       "Minnesota         88\n",
       "Nebraska          87\n",
       "New York          87\n",
       "Nevada            87\n",
       "Maryland          86\n",
       "Delaware          86\n",
       "Vermont           85\n",
       "Louisiana         84\n",
       "North Dakota      83\n",
       "Missouri          81\n",
       "West Virginia     81\n",
       "New Mexico        81\n",
       "Mississippi       80\n",
       "Indiana           79\n",
       "Georgia           79\n",
       "Kentucky          79\n",
       "Arkansas          79\n",
       "North Carolina    78\n",
       "Connecticut       78\n",
       "Virginia          77\n",
       "Ohio              77\n",
       "Tennessee         77\n",
       "Texas             77\n",
       "Maine             77\n",
       "South Carolina    76\n",
       "Colorado          75\n",
       "Oklahoma          75\n",
       "Wisconsin         75\n",
       "Oregon            74\n",
       "Pennsylvania      74\n",
       "Washington        73\n",
       "Michigan          73\n",
       "Alaska            72\n",
       "Massachusetts     72\n",
       "Wyoming           71\n",
       "Utah              71\n",
       "New Hampshire     71\n",
       "South Dakota      70\n",
       "Iowa              69\n",
       "Florida           68\n",
       "New Jersey        67\n",
       "Hawaii            65\n",
       "Arizona           65\n",
       "Kansas            63\n",
       "Rhode Island      63\n",
       "Name: Location, dtype: int64"
      ]
     },
     "execution_count": 25,
     "metadata": {},
     "output_type": "execute_result"
    }
   ],
   "source": [
    "custdata['Location'].value_counts()"
   ]
  },
  {
   "cell_type": "code",
   "execution_count": 26,
   "id": "ed3ecc17",
   "metadata": {},
   "outputs": [
    {
     "data": {
      "text/plain": [
       "Blouse        171\n",
       "Jewelry       171\n",
       "Pants         171\n",
       "Shirt         169\n",
       "Dress         166\n",
       "Sweater       164\n",
       "Jacket        163\n",
       "Belt          161\n",
       "Sunglasses    161\n",
       "Coat          161\n",
       "Sandals       160\n",
       "Socks         159\n",
       "Skirt         158\n",
       "Shorts        157\n",
       "Scarf         157\n",
       "Hat           154\n",
       "Handbag       153\n",
       "Hoodie        151\n",
       "Shoes         150\n",
       "T-shirt       147\n",
       "Sneakers      145\n",
       "Boots         144\n",
       "Backpack      143\n",
       "Gloves        140\n",
       "Jeans         124\n",
       "Name: Item Purchased, dtype: int64"
      ]
     },
     "execution_count": 26,
     "metadata": {},
     "output_type": "execute_result"
    }
   ],
   "source": [
    "custdata['Item Purchased'].value_counts()"
   ]
  },
  {
   "cell_type": "code",
   "execution_count": 32,
   "id": "65d932c0",
   "metadata": {},
   "outputs": [
    {
     "data": {
      "image/png": "[encoded data removed]",
      "text/plain": [
       "<Figure size 432x288 with 1 Axes>"
      ]
     },
     "metadata": {
      "needs_background": "light"
     },
     "output_type": "display_data"
    }
   ],
   "source": [
    "plt.plot(custdata['Gender'], custdata['Item Purchased'])\n",
    "plt.show()\n"
   ]
  },
  {
   "cell_type": "code",
   "execution_count": 5,
   "id": "9263c963",
   "metadata": {},
   "outputs": [
    {
     "data": {
      "text/plain": [
       "5.1440329218107"
      ]
     },
     "execution_count": 5,
     "metadata": {},
     "output_type": "execute_result"
    }
   ],
   "source": [
    "2500/3/162\n"
   ]
  },
  {
   "cell_type": "code",
   "execution_count": null,
   "id": "bc006af8",
   "metadata": {},
   "outputs": [],
   "source": []
  },
  {
   "cell_type": "code",
   "execution_count": null,
   "id": "e061e6e1",
   "metadata": {},
   "outputs": [],
   "source": []
  }
 ],
 "metadata": {
  "kernelspec": {
   "display_name": "Python 3 (ipykernel)",
   "language": "python",
   "name": "python3"
  },
  "language_info": {
   "codemirror_mode": {
    "name": "ipython",
    "version": 3
   },
   "file_extension": ".py",
   "mimetype": "text/x-python",
   "name": "python",
   "nbconvert_exporter": "python",
   "pygments_lexer": "ipython3",
   "version": "3.9.12"
  }
 },
 "nbformat": 4,
 "nbformat_minor": 5
}
