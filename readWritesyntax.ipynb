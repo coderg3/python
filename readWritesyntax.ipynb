{
 "cells": [
  {
   "cell_type": "code",
   "execution_count": 1,
   "id": "4f16b473",
   "metadata": {},
   "outputs": [],
   "source": [
    "import pandas as pd"
   ]
  },
  {
   "cell_type": "code",
   "execution_count": 2,
   "id": "29b742d9",
   "metadata": {},
   "outputs": [],
   "source": [
    "#df= pd.read_csv(\"data.csv\")\n",
    "#df\n",
    "#df=pd.read_excel(\"data.xlsx\",\"Sheet1\")\n",
    "#df\n",
    "#df=pd.DataFrame(weather_data)\n",
    "#df"
   ]
  },
  {
   "cell_type": "code",
   "execution_count": 3,
   "id": "cf47e65b",
   "metadata": {},
   "outputs": [],
   "source": [
    "#tupleslist can be added for data frame"
   ]
  },
  {
   "cell_type": "code",
   "execution_count": 4,
   "id": "9eac065c",
   "metadata": {},
   "outputs": [],
   "source": [
    "#df=pd.DataFrame(weather_data, columns=\"day\",'temperature','windspeed','event')\n",
    "#df"
   ]
  },
  {
   "cell_type": "code",
   "execution_count": 5,
   "id": "eb3d7107",
   "metadata": {},
   "outputs": [],
   "source": [
    "#pandas io"
   ]
  },
  {
   "cell_type": "markdown",
   "id": "e805f6c0",
   "metadata": {},
   "source": [
    "### "
   ]
  },
  {
   "cell_type": "code",
   "execution_count": 6,
   "id": "7b5df41f",
   "metadata": {},
   "outputs": [],
   "source": [
    "#pandas.series"
   ]
  },
  {
   "cell_type": "code",
   "execution_count": null,
   "id": "e520278b",
   "metadata": {},
   "outputs": [],
   "source": []
  }
 ],
 "metadata": {
  "kernelspec": {
   "display_name": "Python 3 (ipykernel)",
   "language": "python",
   "name": "python3"
  },
  "language_info": {
   "codemirror_mode": {
    "name": "ipython",
    "version": 3
   },
   "file_extension": ".py",
   "mimetype": "text/x-python",
   "name": "python",
   "nbconvert_exporter": "python",
   "pygments_lexer": "ipython3",
   "version": "3.9.12"
  }
 },
 "nbformat": 4,
 "nbformat_minor": 5
}
