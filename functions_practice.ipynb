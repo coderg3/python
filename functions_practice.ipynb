{
 "cells": [
  {
   "cell_type": "markdown",
   "id": "914b8595",
   "metadata": {},
   "source": [
    "# 1"
   ]
  },
  {
   "cell_type": "markdown",
   "id": "b1be9cbe",
   "metadata": {},
   "source": [
    "Write a function called calculate_area that takes base and height as an input and returns and area of a triangle. Equation of an area of a triangle is,\n",
    "area = (1/2)*base*height"
   ]
  },
  {
   "cell_type": "code",
   "execution_count": 1,
   "id": "373758aa",
   "metadata": {},
   "outputs": [],
   "source": [
    "def areaOfTriangle(baseOfTriangle,heightOfTriangle):\n",
    "    '''baseOfTriangle=int(input(\"Base:\"))\n",
    "    heightOfTriangle=int(input(\"Height:\"))'''\n",
    "    areaOfTriangle=(1/2)*(heightOfTriangle)*(baseOfTriangle)\n",
    "    print(areaOfTriangle)"
   ]
  },
  {
   "cell_type": "code",
   "execution_count": 2,
   "id": "5b32be01",
   "metadata": {},
   "outputs": [
    {
     "name": "stdout",
     "output_type": "stream",
     "text": [
      "10.0\n"
     ]
    }
   ],
   "source": [
    "areaOfTriangle(5,4)"
   ]
  },
  {
   "cell_type": "markdown",
   "id": "82092ee7",
   "metadata": {},
   "source": [
    "# 2"
   ]
  },
  {
   "cell_type": "code",
   "execution_count": null,
   "id": "c8884d2f",
   "metadata": {},
   "outputs": [],
   "source": []
  },
  {
   "cell_type": "raw",
   "id": "468e775f",
   "metadata": {},
   "source": [
    "Modify above function to take third parameter shape type. It can be either \"triangle\" or \"rectangle\". Based on shape type it will calculate area. Equation of rectangle's area is,\n",
    "\n",
    "rectangle area=length*width\n",
    "\n",
    "If no shape is supplied then it should take triangle as a default shape"
   ]
  },
  {
   "cell_type": "code",
   "execution_count": 7,
   "id": "312a4727",
   "metadata": {},
   "outputs": [],
   "source": [
    "def area(a,b):\n",
    "    shape =input(\"shape :\")\n",
    "    if shape == \"rectangle\":\n",
    "        rectangleArea = a*b\n",
    "        print(rectangleArea)\n",
    "    else:\n",
    "        triangleArea =(1/2)*a*b\n",
    "        print(triangleArea)"
   ]
  },
  {
   "cell_type": "code",
   "execution_count": 9,
   "id": "129545ac",
   "metadata": {},
   "outputs": [
    {
     "name": "stdout",
     "output_type": "stream",
     "text": [
      "shape :\n",
      "10.0\n"
     ]
    }
   ],
   "source": [
    "area(5,4)"
   ]
  },
  {
   "cell_type": "markdown",
   "id": "f5ce48b4",
   "metadata": {},
   "source": [
    "# 3"
   ]
  },
  {
   "cell_type": "markdown",
   "id": "9782f037",
   "metadata": {},
   "source": [
    "Write a function called print_pattern that takes integer number as an argument and prints following pattern if input number is 3,\n",
    "\n",
    "*\n",
    "**\n",
    "***\n",
    "\n",
    "if input is 4 then it should print\n",
    "\n",
    "\n",
    "*\n",
    "**\n",
    "***\n",
    "****\n",
    "\n",
    "Basically number of lines it prints is equal to that number. (Hint: you need to use two for loops)\n",
    "\n"
   ]
  },
  {
   "cell_type": "code",
   "execution_count": null,
   "id": "e2aca6a0",
   "metadata": {},
   "outputs": [],
   "source": [
    "\n"
   ]
  },
  {
   "cell_type": "code",
   "execution_count": 1,
   "id": "1b2c5c9d",
   "metadata": {},
   "outputs": [],
   "source": [
    "def print_pattern(d):\n",
    "    for i in range(d):\n",
    "        s = ''\n",
    "        for j in range(i+1):\n",
    "            s = s + '*'\n",
    "        print(s)"
   ]
  },
  {
   "cell_type": "code",
   "execution_count": 3,
   "id": "b7118256",
   "metadata": {},
   "outputs": [
    {
     "name": "stdout",
     "output_type": "stream",
     "text": [
      "*\n",
      "**\n",
      "***\n",
      "****\n"
     ]
    }
   ],
   "source": [
    "print_pattern(4)"
   ]
  },
  {
   "cell_type": "code",
   "execution_count": null,
   "id": "3cf757df",
   "metadata": {},
   "outputs": [],
   "source": []
  },
  {
   "cell_type": "code",
   "execution_count": null,
   "id": "5de393bf",
   "metadata": {},
   "outputs": [],
   "source": []
  }
 ],
 "metadata": {
  "kernelspec": {
   "display_name": "Python 3 (ipykernel)",
   "language": "python",
   "name": "python3"
  },
  "language_info": {
   "codemirror_mode": {
    "name": "ipython",
    "version": 3
   },
   "file_extension": ".py",
   "mimetype": "text/x-python",
   "name": "python",
   "nbconvert_exporter": "python",
   "pygments_lexer": "ipython3",
   "version": "3.9.12"
  }
 },
 "nbformat": 4,
 "nbformat_minor": 5
}
