{
 "cells": [
  {
   "cell_type": "code",
   "execution_count": 13,
   "id": "21c91d90",
   "metadata": {},
   "outputs": [],
   "source": [
    "\"\"\"\n",
    "  Given a list of numbers i.e.,[9,2,4,-5,7,9,3,2], make another list\n",
    "that contains all the items insorted order from min to max.\n",
    "i.e. your result will be another list like [-5,2,2,3,4,7,9,9]\n",
    "\"\"\"\n",
    "def findMin(L):\n",
    "    m = L[0]\n",
    "    idx = 0\n",
    "    i = 0\n",
    "    for x in L:\n",
    "        if x<m:\n",
    "            m=x\n",
    "            idx=i\n",
    "        else:\n",
    "            pass\n",
    "        i+=1\n",
    "    return m,idx"
   ]
  },
  {
   "cell_type": "code",
   "execution_count": 14,
   "id": "a2ab2dfc",
   "metadata": {},
   "outputs": [],
   "source": [
    "a,b = findMin([9,2,4,-5,7,9,3,2])"
   ]
  },
  {
   "cell_type": "code",
   "execution_count": 15,
   "id": "b13aa644",
   "metadata": {},
   "outputs": [
    {
     "name": "stdout",
     "output_type": "stream",
     "text": [
      "-5 3\n"
     ]
    }
   ],
   "source": [
    "print(a,b)"
   ]
  },
  {
   "cell_type": "code",
   "execution_count": null,
   "id": "e23d99cc",
   "metadata": {},
   "outputs": [],
   "source": []
  },
  {
   "cell_type": "code",
   "execution_count": 25,
   "id": "fadea189",
   "metadata": {},
   "outputs": [],
   "source": [
    "def swapValues(L,idx1,idx2):\n",
    "    tmp=L[idx1]\n",
    "    L[idx1] =L[idx2]\n",
    "    L[idx2]=tmp\n",
    "    return L"
   ]
  },
  {
   "cell_type": "code",
   "execution_count": 26,
   "id": "d90d85e1",
   "metadata": {},
   "outputs": [
    {
     "name": "stdout",
     "output_type": "stream",
     "text": [
      "[9, -5, 4, 2, 7, 9, 3, 2]\n"
     ]
    }
   ],
   "source": [
    "L=[9,2,4,-5,7,9,3,2]\n",
    "L2=swapValues(L,1,3)\n",
    "print(L2)"
   ]
  },
  {
   "cell_type": "code",
   "execution_count": 27,
   "id": "b7cebeb0",
   "metadata": {},
   "outputs": [
    {
     "ename": "SyntaxError",
     "evalue": "invalid syntax (1870064596.py, line 2)",
     "output_type": "error",
     "traceback": [
      "\u001b[1;36m  Input \u001b[1;32mIn [27]\u001b[1;36m\u001b[0m\n\u001b[1;33m    def sortList(L)\u001b[0m\n\u001b[1;37m                   ^\u001b[0m\n\u001b[1;31mSyntaxError\u001b[0m\u001b[1;31m:\u001b[0m invalid syntax\n"
     ]
    }
   ],
   "source": [
    "from my_universal_functions import checkIfNotNumeric\n",
    "def sortList(L):\n",
    "    if not(CheckIfNotNumeric(L)):\n",
    "        print(\"Error: List doesn't contains numeric values\")\n",
    "        return\n",
    "    else:\n",
    "        c=0\n",
    "        for x in L:\n",
    "            m,idx = findMin(L)\n",
    "            LswapValues(L,c,idx)\n",
    "            c+=1"
   ]
  },
  {
   "cell_type": "code",
   "execution_count": null,
   "id": "e58e0a19",
   "metadata": {},
   "outputs": [],
   "source": []
  }
 ],
 "metadata": {
  "kernelspec": {
   "display_name": "Python 3 (ipykernel)",
   "language": "python",
   "name": "python3"
  },
  "language_info": {
   "codemirror_mode": {
    "name": "ipython",
    "version": 3
   },
   "file_extension": ".py",
   "mimetype": "text/x-python",
   "name": "python",
   "nbconvert_exporter": "python",
   "pygments_lexer": "ipython3",
   "version": "3.9.12"
  }
 },
 "nbformat": 4,
 "nbformat_minor": 5
}
