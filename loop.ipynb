{
 "cells": [
  {
   "cell_type": "markdown",
   "id": "a1a29ae8",
   "metadata": {},
   "source": [
    "# loop break continue"
   ]
  },
  {
   "cell_type": "code",
   "execution_count": null,
   "id": "139cc2f2",
   "metadata": {},
   "outputs": [],
   "source": [
    "\n",
    "i=1\n",
    "while True:\n",
    "    if i%7 == 0:\n",
    "        print(\"break\" )\n",
    "        break\n",
    "    else:\n",
    "        \n",
    "        print(\"Iam inside the loop\")\n",
    "        i+=1\n",
    "        continue\n",
    "print(\"done\")\n"
   ]
  },
  {
   "cell_type": "code",
   "execution_count": null,
   "id": "6b6d96ba",
   "metadata": {},
   "outputs": [],
   "source": [
    "n=10\n",
    "i=1\n",
    "while True:# keep moving\n",
    "    if i%9 ==0:\n",
    "        print(\"Inside if\")\n",
    "        break\n",
    "    else:\n",
    "        print(\"inside else\")\n",
    "        i= i+1 #i+=1\n",
    "print(\"done\")"
   ]
  },
  {
   "cell_type": "code",
   "execution_count": 2,
   "id": "b5c5ef92",
   "metadata": {},
   "outputs": [
    {
     "name": "stdout",
     "output_type": "stream",
     "text": [
      "Inside if\n",
      "Inside if\n",
      "Inside if\n",
      "Inside if\n",
      "Inside if\n",
      "Inside if\n",
      "Inside if\n",
      "Inside if\n",
      "something\n",
      "something else\n",
      "done\n"
     ]
    }
   ],
   "source": [
    "# application of continue statement \n",
    "n=10\n",
    "i=1\n",
    "while True:\n",
    "    if i%9 != 0:\n",
    "        print(\"Inside if\")\n",
    "        i= i+1 #i+=1\n",
    "        continue\n",
    "    print(\"something\")\n",
    "    print(\"something else\")\n",
    "    break # if breask is forgot it will be infinite loop\n",
    "print(\"done\")"
   ]
  },
  {
   "cell_type": "code",
   "execution_count": 16,
   "id": "2e2cd5e2",
   "metadata": {},
   "outputs": [
    {
     "name": "stdout",
     "output_type": "stream",
     "text": [
      "1\n",
      "2\n",
      "3\n",
      "4\n",
      "5\n"
     ]
    }
   ],
   "source": [
    "L=[]\n",
    "for i in range(5):\n",
    "    print(i+1)\n",
    "    L.append(i**2)"
   ]
  },
  {
   "cell_type": "code",
   "execution_count": 15,
   "id": "db5dfa08",
   "metadata": {},
   "outputs": [
    {
     "data": {
      "text/plain": [
       "[0, 1, 4, 9, 16, 25, 36, 49, 64, 81]"
      ]
     },
     "execution_count": 15,
     "metadata": {},
     "output_type": "execute_result"
    }
   ],
   "source": [
    "L"
   ]
  },
  {
   "cell_type": "code",
   "execution_count": 18,
   "id": "44bd465f",
   "metadata": {},
   "outputs": [
    {
     "name": "stdout",
     "output_type": "stream",
     "text": [
      "1\n",
      "4\n",
      "7\n",
      "10\n",
      "13\n",
      "16\n",
      "19\n",
      "22\n"
     ]
    },
    {
     "data": {
      "text/plain": [
       "[1, 16, 49, 100, 169, 256, 361, 484]"
      ]
     },
     "execution_count": 18,
     "metadata": {},
     "output_type": "execute_result"
    }
   ],
   "source": [
    "L=[]\n",
    "for i in range(1,25,3):\n",
    "    print(i)\n",
    "    L.append(i**2)\n",
    "L"
   ]
  },
  {
   "cell_type": "markdown",
   "id": "2d82d29d",
   "metadata": {},
   "source": [
    "# else infor loops"
   ]
  },
  {
   "cell_type": "code",
   "execution_count": 31,
   "id": "7b043cc1",
   "metadata": {},
   "outputs": [
    {
     "name": "stdout",
     "output_type": "stream",
     "text": [
      "apples\n",
      "cherry\n",
      "4.9\n",
      "fan\n",
      "Loop completes its Iterations\n",
      "out side the loop\n"
     ]
    }
   ],
   "source": [
    "# set represented incurly braces\n",
    "s={\"apples\",\"fan\",4.9,\"cherry\"}\n",
    "for x in s:\n",
    "    print(x)\n",
    "else:\n",
    "    print(\"Loop completes its Iterations\")\n",
    "print('out side the loop')        "
   ]
  },
  {
   "cell_type": "code",
   "execution_count": 34,
   "id": "83583b55",
   "metadata": {},
   "outputs": [
    {
     "name": "stdout",
     "output_type": "stream",
     "text": [
      "apples\n",
      "cherry\n",
      "out side the loop\n"
     ]
    }
   ],
   "source": [
    "s={\"apples\",\"fan\",4.9,\"cherry\"}\n",
    "i=1\n",
    "for x in s:\n",
    "    print(x)\n",
    "    i+=1\n",
    "    if i==3:\n",
    "        break\n",
    "    else:\n",
    "        pass #passindicated to do nothing\n",
    "else:\n",
    "    print(\"Loop completes its Iterations\")\n",
    "print('out side the loop')   "
   ]
  },
  {
   "cell_type": "code",
   "execution_count": 3,
   "id": "66fbdd7d",
   "metadata": {},
   "outputs": [
    {
     "name": "stdout",
     "output_type": "stream",
     "text": [
      "Max iterations:5\n",
      "2\n",
      "4\n",
      "done\n"
     ]
    }
   ],
   "source": [
    "n=int(input(\"Max iterations:\"))\n",
    "i=1\n",
    "while (i < n):\n",
    "    if i%2 == 0:\n",
    "        print (i)\n",
    "        \n",
    "    else:\n",
    "        pass\n",
    "    i += 1\n",
    "print(\"done\")\n",
    "    "
   ]
  },
  {
   "cell_type": "code",
   "execution_count": 5,
   "id": "0d9b014f",
   "metadata": {},
   "outputs": [
    {
     "name": "stdout",
     "output_type": "stream",
     "text": [
      "apple 44\n",
      "cherry game\n"
     ]
    }
   ],
   "source": [
    "D={\"apple\":44,\"cherry\":\"game\"}\n",
    "for x in D:\n",
    "    print(x, D[x])"
   ]
  },
  {
   "cell_type": "code",
   "execution_count": 6,
   "id": "f9e95fbc",
   "metadata": {},
   "outputs": [
    {
     "name": "stdout",
     "output_type": "stream",
     "text": [
      "-5\n"
     ]
    }
   ],
   "source": [
    "\"\"\"\n",
    "Given a list of numbers i.e.,[9,2,4,-5,7,9,3,2], make another list\n",
    "that contains all the items insorted order from min to max.\n",
    "i.e. your result will be another list like [-5,2,2,3,4,7,9,9]\n",
    "\"\"\"\n",
    "L=[9,2,4,-5,7,9,3,2]\n",
    "m=L[0]\n",
    "for i in L:\n",
    "    if i<m:\n",
    "        m=i\n",
    "print(m)# sorting min value"
   ]
  },
  {
   "cell_type": "code",
   "execution_count": 8,
   "id": "d85b0bbb",
   "metadata": {},
   "outputs": [
    {
     "name": "stdout",
     "output_type": "stream",
     "text": [
      "3 -5\n"
     ]
    }
   ],
   "source": [
    "L=[9,2,4,-5,7,9,3,2]\n",
    "m = L[0]\n",
    "idx = 0\n",
    "c = 0\n",
    "for i in L:\n",
    "    if i<m:\n",
    "        m = i\n",
    "        idx = c\n",
    "    c+=1\n",
    "print(idx,m)# sorting min value also its index"
   ]
  },
  {
   "cell_type": "code",
   "execution_count": 11,
   "id": "5b83af40",
   "metadata": {},
   "outputs": [
    {
     "name": "stdout",
     "output_type": "stream",
     "text": [
      "[-5, 2, 2, 3, 4, 7, 9, 9]\n"
     ]
    }
   ],
   "source": [
    "L=[9,2,4,-5,7,9,3,2]\n",
    "for j in range(len(L)):\n",
    "    \n",
    "    m = L[j]\n",
    "    idx = j\n",
    "    c = j\n",
    "    for i in range(j,len(L)):\n",
    "        if L[i] < m:\n",
    "            m = L[i]\n",
    "            idx = c\n",
    "        c+=1\n",
    "    tmp = L[j]\n",
    "    L[j] = m \n",
    "    L[idx] = tmp\n",
    "print(L)"
   ]
  },
  {
   "cell_type": "code",
   "execution_count": 4,
   "id": "1aac22a6",
   "metadata": {},
   "outputs": [],
   "source": [
    "import sys\n",
    "sys.path.append(\"F:\\Python\")"
   ]
  },
  {
   "cell_type": "code",
   "execution_count": 5,
   "id": "758c1e2d",
   "metadata": {},
   "outputs": [],
   "source": [
    "import my_universal_functions as myuf"
   ]
  },
  {
   "cell_type": "code",
   "execution_count": 6,
   "id": "1be56748",
   "metadata": {},
   "outputs": [],
   "source": [
    "myuf.addAllNumerics??"
   ]
  },
  {
   "cell_type": "code",
   "execution_count": 8,
   "id": "b7f01f71",
   "metadata": {},
   "outputs": [],
   "source": [
    "c=myuf.addAllNumerics(2,3,4,5,6)"
   ]
  },
  {
   "cell_type": "code",
   "execution_count": 9,
   "id": "a5a6239f",
   "metadata": {},
   "outputs": [
    {
     "name": "stdout",
     "output_type": "stream",
     "text": [
      "20\n"
     ]
    }
   ],
   "source": [
    "print(c)"
   ]
  },
  {
   "cell_type": "code",
   "execution_count": 11,
   "id": "fdb4ae6a",
   "metadata": {},
   "outputs": [],
   "source": [
    "from my_universal_functions import addAllNumerics"
   ]
  },
  {
   "cell_type": "code",
   "execution_count": 12,
   "id": "857b9c31",
   "metadata": {},
   "outputs": [],
   "source": [
    "d=addAllNumerics(2,3,4,5,6,7,8)"
   ]
  },
  {
   "cell_type": "code",
   "execution_count": 13,
   "id": "51305498",
   "metadata": {},
   "outputs": [
    {
     "data": {
      "text/plain": [
       "35"
      ]
     },
     "execution_count": 13,
     "metadata": {},
     "output_type": "execute_result"
    }
   ],
   "source": [
    "d"
   ]
  },
  {
   "cell_type": "code",
   "execution_count": 14,
   "id": "d064b810",
   "metadata": {},
   "outputs": [
    {
     "data": {
      "text/plain": [
       "'Python '"
      ]
     },
     "execution_count": 14,
     "metadata": {},
     "output_type": "execute_result"
    }
   ],
   "source": [
    "myuf.myName"
   ]
  },
  {
   "cell_type": "code",
   "execution_count": null,
   "id": "751c36c8",
   "metadata": {},
   "outputs": [],
   "source": []
  }
 ],
 "metadata": {
  "kernelspec": {
   "display_name": "Python 3 (ipykernel)",
   "language": "python",
   "name": "python3"
  },
  "language_info": {
   "codemirror_mode": {
    "name": "ipython",
    "version": 3
   },
   "file_extension": ".py",
   "mimetype": "text/x-python",
   "name": "python",
   "nbconvert_exporter": "python",
   "pygments_lexer": "ipython3",
   "version": "3.9.12"
  }
 },
 "nbformat": 4,
 "nbformat_minor": 5
}
