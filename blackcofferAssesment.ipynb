{
 "cells": [
  {
   "cell_type": "code",
   "execution_count": 1,
   "id": "2804a4e2",
   "metadata": {},
   "outputs": [
    {
     "name": "stdout",
     "output_type": "stream",
     "text": [
      "Automate the Data Management ProcessRealtime Kibana Dashboard for a financial tech firmData Management, ETL, and Data AutomationData Management – EGEASHow To Secure (SSL) Nginx with Let’s Encrypt on Ubuntu (Cloud VM, GCP, AWS, Azure, Linode) and Add DomainDeploy and view React app(Nextjs) on cloud VM such as GCP, AWS, Azure, LinodeDeploy Nodejs app on a cloud VM such as GCP, AWS, Azure, LinodeGrafana Dashboard – Oscar AwardsRising IT cities and its impact on the economy, environment, infrastructure, and city life by the year 2040.Rising IT Cities and Their Impact on the Economy, Environment, Infrastructure, and City Life in FutureInternet Demand’s Evolution, Communication Impact, and 2035’s Alternative PathwaysRise of Cybercrime and its Effect in upcoming FutureAI/ML and Predictive ModelingSolution for Contact Centre ProblemsHow to Setup Custom Domain for Google App Engine Application?Code Review ChecklistWe have seen a huge development and dependence of people on technology in recent years. We have also seen the development of AI and ChatGPT in recent years. So it is a normal thing that we will become fully dependent on technology by 2040. Information technology will be a major power for all the developing nations. As a member of a developing nation, India is rapidly growing its IT base. It has also grown some IT cities which will be the major control centres for Information technology by 2040.Rising IT citiesKolkata:- Kolkata in West Bengal is an emerging major IT hub. The new Kolkata i.e. Saltlake Sector  5, New town, Rajarhat area of Kolkata is a major IT hub. The government is giving the software companies land at almost free of cost to set up the companies there. Many large companies like Google, Microsoft, IBM, Infosys and others have set up their companies here. Kolkata has a market base of billions of dollars and is doing a great job of boosting the national economy.Impact on EconomyThere is a huge impact of the rising IT cities on our economy. Some of the effects are-Impact on EnvironmentThe rising IT cities will create a huge impact on the environment, the maximum of which will be harmful effects. The impact of rising IT cities on the environment is-Impact on infrastructureThere are many contributions of the IT cities on infrastructure.  They are-Impact on city lifeWith the growth of IT cities, more people will get jobs and will earn more. So the purchasing power of the people will increase. People will lead a better lifestyle. They will buy things of good brand value. The tastes and preferences of people will also change. The human development index is going to increase. People will buy good quality food and good quality cars. So the food, automobile and many other industries are going to increase. So there will be a huge impact on city life by 2040.We provide intelligence, accelerate innovation and implement technology with extraordinary breadth and depth global insights into the big data,data-driven dashboards, applications development, and information management for organizations through combining unique, specialist services and high-lvel human expertise.Contact us: hello@blackcoffer.com© All Right Reserved, Blackcoffer(OPC) Pvt. Ltd\n"
     ]
    }
   ],
   "source": [
    "import requests\n",
    "from bs4 import BeautifulSoup\n",
    "\n",
    "# Replace 'your_url' with the actual URL you want to scrape\n",
    "url = 'https://insights.blackcoffer.com/rising-it-cities-and-its-impact-on-the-economy-environment-infrastructure-and-city-life-by-the-year-2040-2/'\n",
    "response = requests.get(url)\n",
    "soup = BeautifulSoup(response.text, 'html.parser')\n",
    "\n",
    "# Extract text from the webpage\n",
    "text_data = ''\n",
    "for paragraph in soup.find_all('p'):\n",
    "    text_data += paragraph.get_text()\n",
    "\n",
    "# Now, you have the text_data variable containing the text from the webpage.\n",
    "print(text_data)\n"
   ]
  },
  {
   "cell_type": "code",
   "execution_count": 2,
   "id": "aa391080",
   "metadata": {},
   "outputs": [
    {
     "name": "stdout",
     "output_type": "stream",
     "text": [
      "Text extracted and saved to .txt\n"
     ]
    }
   ],
   "source": [
    "import requests\n",
    "from bs4 import BeautifulSoup\n",
    "\n",
    "# Replace 'your_url' with the actual URL you want to scrape\n",
    "url = 'https://insights.blackcoffer.com/rising-it-cities-and-its-impact-on-the-economy-environment-infrastructure-and-city-life-by-the-year-2040-2/'\n",
    "response = requests.get(url)\n",
    "soup = BeautifulSoup(response.text, 'html.parser')\n",
    "\n",
    "# Extract text from the webpage\n",
    "text_data = ''\n",
    "for paragraph in soup.find_all('p'):\n",
    "    text_data += paragraph.get_text()\n",
    "\n",
    "# Extract URL ID (assuming it's a part of the URL)\n",
    "url_id = url.split('/')[-1]  # Assuming the URL has the ID as the last part\n",
    "\n",
    "# Save the text data to a text file\n",
    "filename = f'{url_id}.txt'\n",
    "with open(filename, 'w', encoding='utf-8') as file:\n",
    "    file.write(text_data)\n",
    "\n",
    "print(f'Text extracted and saved to {filename}')\n"
   ]
  },
  {
   "cell_type": "code",
   "execution_count": 3,
   "id": "cd49c556",
   "metadata": {},
   "outputs": [
    {
     "name": "stdout",
     "output_type": "stream",
     "text": [
      "Contents of .txt:\n",
      "\n",
      "Automate the Data Management ProcessRealtime Kibana Dashboard for a financial tech firmData Management, ETL, and Data AutomationData Management – EGEASHow To Secure (SSL) Nginx with Let’s Encrypt on Ubuntu (Cloud VM, GCP, AWS, Azure, Linode) and Add DomainDeploy and view React app(Nextjs) on cloud VM such as GCP, AWS, Azure, LinodeDeploy Nodejs app on a cloud VM such as GCP, AWS, Azure, LinodeGrafana Dashboard – Oscar AwardsRising IT cities and its impact on the economy, environment, infrastructure, and city life by the year 2040.Rising IT Cities and Their Impact on the Economy, Environment, Infrastructure, and City Life in FutureInternet Demand’s Evolution, Communication Impact, and 2035’s Alternative PathwaysRise of Cybercrime and its Effect in upcoming FutureAI/ML and Predictive ModelingSolution for Contact Centre ProblemsHow to Setup Custom Domain for Google App Engine Application?Code Review ChecklistWe have seen a huge development and dependence of people on technology in recent years. We have also seen the development of AI and ChatGPT in recent years. So it is a normal thing that we will become fully dependent on technology by 2040. Information technology will be a major power for all the developing nations. As a member of a developing nation, India is rapidly growing its IT base. It has also grown some IT cities which will be the major control centres for Information technology by 2040.Rising IT citiesKolkata:- Kolkata in West Bengal is an emerging major IT hub. The new Kolkata i.e. Saltlake Sector  5, New town, Rajarhat area of Kolkata is a major IT hub. The government is giving the software companies land at almost free of cost to set up the companies there. Many large companies like Google, Microsoft, IBM, Infosys and others have set up their companies here. Kolkata has a market base of billions of dollars and is doing a great job of boosting the national economy.Impact on EconomyThere is a huge impact of the rising IT cities on our economy. Some of the effects are-Impact on EnvironmentThe rising IT cities will create a huge impact on the environment, the maximum of which will be harmful effects. The impact of rising IT cities on the environment is-Impact on infrastructureThere are many contributions of the IT cities on infrastructure.  They are-Impact on city lifeWith the growth of IT cities, more people will get jobs and will earn more. So the purchasing power of the people will increase. People will lead a better lifestyle. They will buy things of good brand value. The tastes and preferences of people will also change. The human development index is going to increase. People will buy good quality food and good quality cars. So the food, automobile and many other industries are going to increase. So there will be a huge impact on city life by 2040.We provide intelligence, accelerate innovation and implement technology with extraordinary breadth and depth global insights into the big data,data-driven dashboards, applications development, and information management for organizations through combining unique, specialist services and high-lvel human expertise.Contact us: hello@blackcoffer.com© All Right Reserved, Blackcoffer(OPC) Pvt. Ltd\n"
     ]
    }
   ],
   "source": [
    "# Open and read the saved text file\n",
    "with open(filename, 'r', encoding='utf-8') as file:\n",
    "    file_contents = file.read()\n",
    "\n",
    "# Print the contents of the file\n",
    "print(f'Contents of {filename}:\\n')\n",
    "print(file_contents)\n"
   ]
  },
  {
   "cell_type": "code",
   "execution_count": 6,
   "id": "50ea7708",
   "metadata": {},
   "outputs": [],
   "source": [
    "# Save the text data to a specific absolute path\n",
    "filename = 'C:/Users/DELL/Desktop/BLACKCOFFER' + f'{url_id}.txt'\n",
    "with open(filename, 'w', encoding='utf-8') as file:\n",
    "    file.write(text_data)\n"
   ]
  },
  {
   "cell_type": "code",
   "execution_count": null,
   "id": "703845c9",
   "metadata": {},
   "outputs": [],
   "source": [
    "https://insights.blackcoffer.com/rising-it-cities-and-its-impact-on-the-economy-environment-infrastructure-and-city-life-by-the-year-2040-2/"
   ]
  },
  {
   "cell_type": "code",
   "execution_count": 8,
   "id": "a71649e4",
   "metadata": {},
   "outputs": [
    {
     "name": "stdout",
     "output_type": "stream",
     "text": [
      "Article Titles: []\n",
      "Average Sentence Length: 17.733333333333334\n"
     ]
    }
   ],
   "source": [
    "import requests\n",
    "from bs4 import BeautifulSoup\n",
    "\n",
    "url = \"https://insights.blackcoffer.com/rising-it-cities-and-its-impact-on-the-economy-environment-infrastructure-and-city-life-by-the-year-2040-2/\"\n",
    "response = requests.get(url)\n",
    "\n",
    "if response.status_code == 200:\n",
    "    soup = BeautifulSoup(response.text, 'html.parser')\n",
    "\n",
    "    # Extract article titles\n",
    "    article_titles = [title.text for title in soup.find_all('h2')]\n",
    "\n",
    "    # Extract article content\n",
    "    article_contents = [content.text for content in soup.find_all('p')]\n",
    "\n",
    "    # Perform text analysis on article content (you can use libraries like nltk, spaCy, or textblob)\n",
    "    # Example: Calculate the average length of sentences\n",
    "    sentence_lengths = [len(sentence.split()) for sentence in article_contents]\n",
    "    average_sentence_length = sum(sentence_lengths) / len(sentence_lengths)\n",
    "\n",
    "    # Other text analysis tasks can be performed similarly\n",
    "\n",
    "    # Print or store the results\n",
    "    print(\"Article Titles:\", article_titles)\n",
    "    print(\"Average Sentence Length:\", average_sentence_length)\n",
    "\n",
    "else:\n",
    "    print(f\"Failed to retrieve the page. Status code: {response.status_code}\")\n"
   ]
  },
  {
   "cell_type": "code",
   "execution_count": 9,
   "id": "9dd76b54",
   "metadata": {},
   "outputs": [
    {
     "name": "stdout",
     "output_type": "stream",
     "text": [
      "Title: Rising IT cities and its impact on the economy, environment, infrastructure, and city life by the year 2040. - Blackcoffer Insights\n",
      "Automate the Data Management ProcessRealtime Kibana Dashboard for a financial tech firmData Management, ETL, and Data AutomationData Management – EGEASHow To Secure (SSL) Nginx with Let’s Encrypt on Ubuntu (Cloud VM, GCP, AWS, Azure, Linode) and Add DomainDeploy and view React app(Nextjs) on cloud VM such as GCP, AWS, Azure, LinodeDeploy Nodejs app on a cloud VM such as GCP, AWS, Azure, LinodeGrafana Dashboard – Oscar AwardsRising IT cities and its impact on the economy, environment, infrastructure, and city life by the year 2040.Rising IT Cities and Their Impact on the Economy, Environment, Infrastructure, and City Life in FutureInternet Demand’s Evolution, Communication Impact, and 2035’s Alternative PathwaysRise of Cybercrime and its Effect in upcoming FutureAI/ML and Predictive ModelingSolution for Contact Centre ProblemsHow to Setup Custom Domain for Google App Engine Application?Code Review ChecklistWe have seen a huge development and dependence of people on technology in recent years. We have also seen the development of AI and ChatGPT in recent years. So it is a normal thing that we will become fully dependent on technology by 2040. Information technology will be a major power for all the developing nations. As a member of a developing nation, India is rapidly growing its IT base. It has also grown some IT cities which will be the major control centres for Information technology by 2040.Rising IT citiesKolkata:- Kolkata in West Bengal is an emerging major IT hub. The new Kolkata i.e. Saltlake Sector  5, New town, Rajarhat area of Kolkata is a major IT hub. The government is giving the software companies land at almost free of cost to set up the companies there. Many large companies like Google, Microsoft, IBM, Infosys and others have set up their companies here. Kolkata has a market base of billions of dollars and is doing a great job of boosting the national economy.Impact on EconomyThere is a huge impact of the rising IT cities on our economy. Some of the effects are-Impact on EnvironmentThe rising IT cities will create a huge impact on the environment, the maximum of which will be harmful effects. The impact of rising IT cities on the environment is-Impact on infrastructureThere are many contributions of the IT cities on infrastructure.  They are-Impact on city lifeWith the growth of IT cities, more people will get jobs and will earn more. So the purchasing power of the people will increase. People will lead a better lifestyle. They will buy things of good brand value. The tastes and preferences of people will also change. The human development index is going to increase. People will buy good quality food and good quality cars. So the food, automobile and many other industries are going to increase. So there will be a huge impact on city life by 2040.We provide intelligence, accelerate innovation and implement technology with extraordinary breadth and depth global insights into the big data,data-driven dashboards, applications development, and information management for organizations through combining unique, specialist services and high-lvel human expertise.Contact us: hello@blackcoffer.com© All Right Reserved, Blackcoffer(OPC) Pvt. Ltd\n"
     ]
    }
   ],
   "source": [
    "import requests\n",
    "from bs4 import BeautifulSoup\n",
    "\n",
    "# Replace 'your_url' with the actual URL you want to scrape\n",
    "url = 'https://insights.blackcoffer.com/rising-it-cities-and-its-impact-on-the-economy-environment-infrastructure-and-city-life-by-the-year-2040-2/'\n",
    "response = requests.get(url)\n",
    "soup = BeautifulSoup(response.text, 'html.parser')\n",
    "\n",
    "# Extract article title\n",
    "title = soup.title.string\n",
    "print('Title:', title)\n",
    "\n",
    "# Extract text from the webpage\n",
    "text_data = ''\n",
    "for paragraph in soup.find_all('p'):\n",
    "    text_data += paragraph.get_text()\n",
    "\n",
    "# Now, you have the title and text_data variables containing the title and text from the webpage.\n",
    "print(text_data)\n"
   ]
  }
 ],
 "metadata": {
  "kernelspec": {
   "display_name": "Python 3 (ipykernel)",
   "language": "python",
   "name": "python3"
  },
  "language_info": {
   "codemirror_mode": {
    "name": "ipython",
    "version": 3
   },
   "file_extension": ".py",
   "mimetype": "text/x-python",
   "name": "python",
   "nbconvert_exporter": "python",
   "pygments_lexer": "ipython3",
   "version": "3.9.12"
  }
 },
 "nbformat": 4,
 "nbformat_minor": 5
}
