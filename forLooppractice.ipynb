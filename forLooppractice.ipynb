{
 "cells": [
  {
   "cell_type": "markdown",
   "id": "294ee3a7",
   "metadata": {},
   "source": [
    "# 1"
   ]
  },
  {
   "cell_type": "markdown",
   "id": "493d987f",
   "metadata": {},
   "source": [
    "After flipping a coin 10 times you got this result,\n",
    "result = [\"heads\",\"tails\",\"tails\",\"heads\",\"tails\",\"heads\",\"heads\",\"tails\",\"tails\",\"tails\"]\n",
    "Using for loop figure out how many times you got heads"
   ]
  },
  {
   "cell_type": "code",
   "execution_count": 1,
   "id": "3310bbaf",
   "metadata": {},
   "outputs": [
    {
     "name": "stdout",
     "output_type": "stream",
     "text": [
      "4\n"
     ]
    }
   ],
   "source": [
    "result = [\"heads\",\"tails\",\"tails\",\"heads\",\"tails\",\"heads\",\"heads\",\"tails\",\"tails\",\"tails\"]\n",
    "for i in result:\n",
    "    a=result.count(\"heads\")\n",
    "    print(a)\n",
    "    break"
   ]
  },
  {
   "cell_type": "code",
   "execution_count": 5,
   "id": "24f627a9",
   "metadata": {},
   "outputs": [
    {
     "name": "stdout",
     "output_type": "stream",
     "text": [
      "Heads count:  4\n"
     ]
    }
   ],
   "source": [
    "result = [\"heads\",\"tails\",\"tails\",\"heads\",\"tails\",\"heads\",\"heads\",\"tails\",\"tails\",\"tails\"]\n",
    "count = 0\n",
    "for item in result:\n",
    "    if item == \"heads\":\n",
    "        count += 1\n",
    "print(\"Heads count: \",count)"
   ]
  },
  {
   "cell_type": "markdown",
   "id": "f6f14a14",
   "metadata": {},
   "source": [
    "Print square of all numbers between 1 to 10 except even numbers"
   ]
  },
  {
   "cell_type": "code",
   "execution_count": 9,
   "id": "b7eec356",
   "metadata": {},
   "outputs": [
    {
     "name": "stdout",
     "output_type": "stream",
     "text": [
      "1\n",
      "27\n",
      "125\n",
      "343\n",
      "729\n"
     ]
    }
   ],
   "source": [
    "for i in range(1,11):\n",
    "    if i%2 != 0:\n",
    "        print(i**3)"
   ]
  },
  {
   "cell_type": "code",
   "execution_count": 8,
   "id": "cb3e3bb7",
   "metadata": {},
   "outputs": [
    {
     "name": "stdout",
     "output_type": "stream",
     "text": [
      "1\n",
      "9\n",
      "25\n",
      "49\n",
      "81\n"
     ]
    }
   ],
   "source": [
    "for i in range(1,11):\n",
    "    if i % 2 == 0:\n",
    "        continue\n",
    "    print(i*i)"
   ]
  },
  {
   "cell_type": "markdown",
   "id": "2b76c621",
   "metadata": {},
   "source": [
    "Your monthly expense list (from Jan to May) looks like this,\n",
    "expense_list = [2340, 2500, 2100, 3100, 2980]\n",
    "Write a program that asks you to enter an expense amount and program should tell you in which month that expense occurred. If expense is not found then it should print that as well."
   ]
  },
  {
   "cell_type": "code",
   "execution_count": 6,
   "id": "268bb368",
   "metadata": {},
   "outputs": [
    {
     "name": "stdout",
     "output_type": "stream",
     "text": [
      "Enter expense amount: 2500\n",
      "You spent 2500 in February\n"
     ]
    }
   ],
   "source": [
    "month_list = [\"January\", \"February\", \"March\", \"April\", \"May\"]\n",
    "expense_list = [2340, 2500, 2100, 3100, 2980]\n",
    "e = input(\"Enter expense amount: \")\n",
    "e = int(e)\n",
    "\n",
    "month = -1\n",
    "for i in range(len(expense_list)):\n",
    "    if e == expense_list[i]:\n",
    "        month = i\n",
    "        break\n",
    "\n",
    "if month != -1:\n",
    "    print(f'You spent {e} in {month_list[month]}')\n",
    "else:\n",
    "    print(f'You didn\\'t spend {e} in any month')"
   ]
  },
  {
   "cell_type": "code",
   "execution_count": 4,
   "id": "56e92ccb",
   "metadata": {},
   "outputs": [
    {
     "name": "stdout",
     "output_type": "stream",
     "text": [
      "Enter the expense amount: 2500\n",
      "February\n"
     ]
    }
   ],
   "source": [
    "def find_month(expense_list, expense_amount):\n",
    "    months = ['January', 'February', 'March', 'April', 'May']\n",
    "    \n",
    "    for i, expense in enumerate(expense_list):\n",
    "        if expense == expense_amount:\n",
    "            return months[i]\n",
    "    \n",
    "    return \"Expense not found.\"\n",
    "\n",
    "expense_list = [2340, 2500, 2100, 3100, 2980]\n",
    "\n",
    "expense_amount = int(input(\"Enter the expense amount: \"))\n",
    "\n",
    "month = find_month(expense_list, expense_amount)\n",
    "\n",
    "print(month)"
   ]
  },
  {
   "cell_type": "code",
   "execution_count": null,
   "id": "2b422380",
   "metadata": {},
   "outputs": [],
   "source": []
  },
  {
   "cell_type": "markdown",
   "id": "ea7fcf77",
   "metadata": {},
   "source": [
    "Lets say you are running a 5 km race. Write a program that,\n",
    "\n",
    "Upon completing each 1 km asks you \"are you tired?\"\n",
    "If you reply \"yes\" then it should break and print \"you didn't finish the race\"\n",
    "If you reply \"no\" then it should continue and ask \"are you tired\" on every km\n",
    "If you finish all 5 km then it should print congratulations message\n"
   ]
  },
  {
   "cell_type": "code",
   "execution_count": null,
   "id": "b14f9054",
   "metadata": {},
   "outputs": [],
   "source": [
    "for i in range(5):\n",
    "    print(f\"You ran {i+1} miles\") # i starts with zero hence adding 1\n",
    "    tired = input(\"Are you tired? \")\n",
    "    if tired == 'yes':\n",
    "        break\n",
    "\n",
    "if i == 4: # 4 because the index starts from 0\n",
    "    print(\"Hurray! You are a rock star! You just finished 5 km race!\")\n",
    "else:\n",
    "    print(\"You didn't finish 5 km race but hey congrats anyways! You still ran {i+1} miles\")\n"
   ]
  },
  {
   "cell_type": "code",
   "execution_count": null,
   "id": "1e1d2f29",
   "metadata": {},
   "outputs": [],
   "source": []
  },
  {
   "cell_type": "markdown",
   "id": "7d9cb9de",
   "metadata": {},
   "source": [
    "Write a program that prints following shape\n",
    "\n",
    "*\n",
    "**\n",
    "***\n",
    "****\n",
    "*****"
   ]
  },
  {
   "cell_type": "code",
   "execution_count": 2,
   "id": "8cbea539",
   "metadata": {},
   "outputs": [
    {
     "name": "stdout",
     "output_type": "stream",
     "text": [
      "*\n",
      "**\n",
      "***\n",
      "****\n",
      "*****\n"
     ]
    }
   ],
   "source": [
    "for i in range(1,6):\n",
    "    s = ''\n",
    "    for j in range(i):\n",
    "        s += '*'\n",
    "    print(s)"
   ]
  },
  {
   "cell_type": "code",
   "execution_count": null,
   "id": "7313bb70",
   "metadata": {},
   "outputs": [],
   "source": []
  },
  {
   "cell_type": "code",
   "execution_count": null,
   "id": "5e639aae",
   "metadata": {},
   "outputs": [],
   "source": []
  }
 ],
 "metadata": {
  "kernelspec": {
   "display_name": "Python 3 (ipykernel)",
   "language": "python",
   "name": "python3"
  },
  "language_info": {
   "codemirror_mode": {
    "name": "ipython",
    "version": 3
   },
   "file_extension": ".py",
   "mimetype": "text/x-python",
   "name": "python",
   "nbconvert_exporter": "python",
   "pygments_lexer": "ipython3",
   "version": "3.9.12"
  }
 },
 "nbformat": 4,
 "nbformat_minor": 5
}
