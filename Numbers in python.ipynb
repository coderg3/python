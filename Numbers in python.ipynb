{
 "cells": [
  {
   "cell_type": "markdown",
   "id": "75a02ea5",
   "metadata": {},
   "source": [
    "You have a football field that is 92 meter long and 48.8 meter wide. Find out total area using python and print it.\n",
    "\n",
    "You bought 9 packets of potato chips from a store. Each packet costs 1.49 dollar and you gave shopkeeper 20 dollar. Find out using python, how many dollars is the shopkeeper going to give you back?\n",
    "\n",
    "You want to replace tiles in your bathroom which is exactly square and 5.5 feet is its length. If tiles cost 500 rs per square feet, how much will be the total cost to replace all tiles. Calculate and print the cost using python (Hint: Use power operator ** to find area of a square)\n",
    "\n",
    "Print binary representation of number 17"
   ]
  },
  {
   "cell_type": "code",
   "execution_count": 9,
   "id": "88b3f441",
   "metadata": {},
   "outputs": [
    {
     "name": "stdout",
     "output_type": "stream",
     "text": [
      "4489.599999999999\n"
     ]
    }
   ],
   "source": [
    "length=92\n",
    "width=48.8\n",
    "totalArea_footballField=length*width\n",
    "print(totalArea_footballField)"
   ]
  },
  {
   "cell_type": "code",
   "execution_count": 10,
   "id": "7ef38fc8",
   "metadata": {},
   "outputs": [
    {
     "name": "stdout",
     "output_type": "stream",
     "text": [
      "Shop keeper going to return: 6.59\n"
     ]
    }
   ],
   "source": [
    "potatoChipPackates=9\n",
    "costOfPacket=1.49\n",
    "amountYouGave=20\n",
    "totalOfchipscost=potatoChipPackates*costOfPacket\n",
    "returnamount=amountYouGave-totalOfchipscost\n",
    "print(\"Shop keeper going to return:\",returnamount )"
   ]
  },
  {
   "cell_type": "code",
   "execution_count": 11,
   "id": "e9cc588a",
   "metadata": {},
   "outputs": [
    {
     "name": "stdout",
     "output_type": "stream",
     "text": [
      "30.25\n",
      "15125.0\n"
     ]
    }
   ],
   "source": [
    "lengthOfSquarebathroom=5.5\n",
    "areOfSquarebathroom=lengthOfSquarebathroom**2\n",
    "print(areOfSquarebathroom)\n",
    "costOftiles=500\n",
    "totalCostToReplace=costOftiles*areOfSquarebathroom\n",
    "print(totalCostToReplace)"
   ]
  },
  {
   "cell_type": "code",
   "execution_count": 12,
   "id": "4ec2b3ea",
   "metadata": {},
   "outputs": [
    {
     "name": "stdout",
     "output_type": "stream",
     "text": [
      "Binary of number 17 is: 10001\n"
     ]
    }
   ],
   "source": [
    "#Print binary representation of number 17\n",
    "num=17\n",
    "print('Binary of number 17 is:',format(num,'b'))"
   ]
  },
  {
   "cell_type": "code",
   "execution_count": null,
   "id": "7d6c1d68",
   "metadata": {},
   "outputs": [],
   "source": []
  }
 ],
 "metadata": {
  "kernelspec": {
   "display_name": "Python 3 (ipykernel)",
   "language": "python",
   "name": "python3"
  },
  "language_info": {
   "codemirror_mode": {
    "name": "ipython",
    "version": 3
   },
   "file_extension": ".py",
   "mimetype": "text/x-python",
   "name": "python",
   "nbconvert_exporter": "python",
   "pygments_lexer": "ipython3",
   "version": "3.9.12"
  }
 },
 "nbformat": 4,
 "nbformat_minor": 5
}
